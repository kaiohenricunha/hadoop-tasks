{
  "nbformat": 4,
  "nbformat_minor": 0,
  "metadata": {
    "colab": {
      "provenance": [],
      "include_colab_link": true
    },
    "kernelspec": {
      "name": "python3",
      "display_name": "Python 3"
    },
    "language_info": {
      "name": "python"
    }
  },
  "cells": [
    {
      "cell_type": "markdown",
      "metadata": {
        "id": "view-in-github",
        "colab_type": "text"
      },
      "source": [
        "<a href=\"https://colab.research.google.com/github/kaiohenricunha/hadoop-tasks/blob/main/Hadoop_Colab.ipynb\" target=\"_parent\"><img src=\"https://colab.research.google.com/assets/colab-badge.svg\" alt=\"Open In Colab\"/></a>"
      ]
    },
    {
      "cell_type": "markdown",
      "source": [
        "#Hadoop in Colab updated to version 3.3.5\n",
        "Colab original https://github.com/anjalysam/Hadoop"
      ],
      "metadata": {
        "id": "2aZnBPqcrsqr"
      }
    },
    {
      "cell_type": "markdown",
      "source": [
        "Content:\n",
        "\n",
        "1.   [Installing Java 8](#scrollTo=Kxt9UbTArwTC)\n",
        "2.   [Installing Secure Shell Server (SSHD)](#scrollTo=E1_rIFHNb1zk)\n",
        "3.   [Installing Hadoop 3.2.3](#scrollTo=qCeL0IBlrnoF)\n",
        "4.   [Running Hadoop in standalone mode](#scrollTo=xyNhcphwU326)\n",
        "5.   [Running Hadoop in Pseudo-distributed mode](#scrollTo=lEWV2YjJmR78)"
      ],
      "metadata": {
        "id": "E1_rIFHNb1zk"
      }
    },
    {
      "cell_type": "markdown",
      "source": [
        "##Introduction"
      ],
      "metadata": {
        "id": "uEg1qPOoyAvp"
      }
    },
    {
      "cell_type": "markdown",
      "source": [
        "Hadoop is an open-source framework which is mainly used for storage purposes and maintaining and analyzing a large amount of data or datasets on the clusters of commodity hardware, which means it is actually a data management tool."
      ],
      "metadata": {
        "id": "aHBU-XQgO30O"
      }
    },
    {
      "cell_type": "markdown",
      "source": [
        "Hadoop mainly works on 3 different modes:\n",
        "\n",
        "*   Standalone Mode\n",
        "*   Pseudo-distributed Mode\n",
        "*   Fully-distributed Mode\n"
      ],
      "metadata": {
        "id": "zfwqfBB6O7cu"
      }
    },
    {
      "cell_type": "markdown",
      "source": [
        "**Standalone Mode**\n",
        "\n",
        "By default, Hadoop is configured to run in a non distributed mode. It runs as a single Java process. Instead of HDFS, this mode utilizes the local file system. This mode is useful for debugging and there isn't any need to configure core-site.xml, hdfs-site.xml, mapred-site.xml, masters & slaves. Stand-alone mode is usually the fastest mode in Hadoop.\n",
        "\n",
        "**Pseudo-distributed Mode**\n",
        "\n",
        "Hadoop can also run on a single node in a Pseudo-distributed mode. In this mode, each daemon runs on separate java processes. In this mode custom configuration is required (core-site.xml, hdfs-site.xml, mapred-site.xml). Here HDFS is utilized for input and output. This mode of deployment is useful for testing and debugging purposes.\n",
        "\n",
        "**Fully-distributed Mode**\n",
        "\n",
        "This is the production mode of Hadoop. In this mode typically one machine in the cluster is designated as NameNode and another as Resource Manager exclusively. These are masters. All other nodes act as Data Node and Node Manager. These are the slaves. Configuration parameters and environment need to be specified for Hadoop Daemons."
      ],
      "metadata": {
        "id": "saGpmRDDQoAX"
      }
    },
    {
      "cell_type": "markdown",
      "source": [
        "##Installing Java 8"
      ],
      "metadata": {
        "id": "Kxt9UbTArwTC"
      }
    },
    {
      "cell_type": "markdown",
      "source": [
        "Hadoop is a java programming-based data processing framework\n",
        "\n",
        "OpenJDK is a development environment for building applications, applets, and components using the Java programming language."
      ],
      "metadata": {
        "id": "eXp-IUxoGXEH"
      }
    },
    {
      "cell_type": "code",
      "source": [
        "#Checking the installed Java version\n",
        "!java -version"
      ],
      "metadata": {
        "colab": {
          "base_uri": "https://localhost:8080/"
        },
        "id": "zwH_9BC1ZIET",
        "outputId": "18694d20-e9c3-4112-966e-2780b42a6e51"
      },
      "execution_count": null,
      "outputs": [
        {
          "output_type": "stream",
          "name": "stdout",
          "text": [
            "openjdk version \"11.0.18\" 2023-01-17\n",
            "OpenJDK Runtime Environment (build 11.0.18+10-post-Ubuntu-0ubuntu120.04.1)\n",
            "OpenJDK 64-Bit Server VM (build 11.0.18+10-post-Ubuntu-0ubuntu120.04.1, mixed mode, sharing)\n"
          ]
        }
      ]
    },
    {
      "cell_type": "markdown",
      "source": [
        "Installing java 8 for better compatibility with Hadoop"
      ],
      "metadata": {
        "id": "KmHd4GpDWOjX"
      }
    },
    {
      "cell_type": "code",
      "execution_count": null,
      "metadata": {
        "id": "_UOxDVi9ceCm"
      },
      "outputs": [],
      "source": [
        "#Installing java 8\n",
        "!apt-get install openjdk-8-jdk-headless -qq > /dev/null\n",
        "# -q, quiet level 2: no output except for errors\n",
        "#> /dev/null on the end of any command where you want to redirect all the stdout into nothingness"
      ]
    },
    {
      "cell_type": "markdown",
      "source": [
        "Switching java default version"
      ],
      "metadata": {
        "id": "HTZN58Mv1hlG"
      }
    },
    {
      "cell_type": "code",
      "source": [
        "#Switching java version to use as default (choose option 2 and prees enter)\n",
        "!update-alternatives --config java"
      ],
      "metadata": {
        "colab": {
          "base_uri": "https://localhost:8080/"
        },
        "id": "BSMxNJlea1K7",
        "outputId": "86e2803f-9c93-4d30-ba89-534705a4a590"
      },
      "execution_count": null,
      "outputs": [
        {
          "output_type": "stream",
          "name": "stdout",
          "text": [
            "There are 2 choices for the alternative java (providing /usr/bin/java).\n",
            "\n",
            "  Selection    Path                                            Priority   Status\n",
            "------------------------------------------------------------\n",
            "* 0            /usr/lib/jvm/java-11-openjdk-amd64/bin/java      1111      auto mode\n",
            "  1            /usr/lib/jvm/java-11-openjdk-amd64/bin/java      1111      manual mode\n",
            "  2            /usr/lib/jvm/java-8-openjdk-amd64/jre/bin/java   1081      manual mode\n",
            "\n",
            "Press <enter> to keep the current choice[*], or type selection number: 2\n",
            "update-alternatives: using /usr/lib/jvm/java-8-openjdk-amd64/jre/bin/java to provide /usr/bin/java (java) in manual mode\n"
          ]
        }
      ]
    },
    {
      "cell_type": "code",
      "source": [
        "#Switching javac version to use as default (choose option 2 and press enter)\n",
        "!update-alternatives --config javac"
      ],
      "metadata": {
        "colab": {
          "base_uri": "https://localhost:8080/"
        },
        "id": "L9_5cIQGlg2G",
        "outputId": "90f3f022-9c15-4933-ce5c-cf8233c21bbf"
      },
      "execution_count": null,
      "outputs": [
        {
          "output_type": "stream",
          "name": "stdout",
          "text": [
            "There are 2 choices for the alternative javac (providing /usr/bin/javac).\n",
            "\n",
            "  Selection    Path                                          Priority   Status\n",
            "------------------------------------------------------------\n",
            "* 0            /usr/lib/jvm/java-11-openjdk-amd64/bin/javac   1111      auto mode\n",
            "  1            /usr/lib/jvm/java-11-openjdk-amd64/bin/javac   1111      manual mode\n",
            "  2            /usr/lib/jvm/java-8-openjdk-amd64/bin/javac    1081      manual mode\n",
            "\n",
            "Press <enter> to keep the current choice[*], or type selection number: 2\n",
            "update-alternatives: using /usr/lib/jvm/java-8-openjdk-amd64/bin/javac to provide /usr/bin/javac (javac) in manual mode\n"
          ]
        }
      ]
    },
    {
      "cell_type": "code",
      "source": [
        "#Switching jps version to use as default (choose option 2 and press enter)\n",
        "!update-alternatives --config jps"
      ],
      "metadata": {
        "colab": {
          "base_uri": "https://localhost:8080/"
        },
        "id": "Mo4Dnbf82vjj",
        "outputId": "e79fe7cb-0482-493f-a5c3-3003c9d8538d"
      },
      "execution_count": null,
      "outputs": [
        {
          "output_type": "stream",
          "name": "stdout",
          "text": [
            "There are 2 choices for the alternative jps (providing /usr/bin/jps).\n",
            "\n",
            "  Selection    Path                                        Priority   Status\n",
            "------------------------------------------------------------\n",
            "* 0            /usr/lib/jvm/java-11-openjdk-amd64/bin/jps   1111      auto mode\n",
            "  1            /usr/lib/jvm/java-11-openjdk-amd64/bin/jps   1111      manual mode\n",
            "  2            /usr/lib/jvm/java-8-openjdk-amd64/bin/jps    1081      manual mode\n",
            "\n",
            "Press <enter> to keep the current choice[*], or type selection number: 2\n",
            "update-alternatives: using /usr/lib/jvm/java-8-openjdk-amd64/bin/jps to provide /usr/bin/jps (jps) in manual mode\n"
          ]
        }
      ]
    },
    {
      "cell_type": "code",
      "source": [
        "#Checking Java default version\n",
        "!java -version"
      ],
      "metadata": {
        "colab": {
          "base_uri": "https://localhost:8080/"
        },
        "id": "AWunFxU8b9gh",
        "outputId": "b10abac8-236f-4657-94a6-0bc44bb3f16d"
      },
      "execution_count": null,
      "outputs": [
        {
          "output_type": "stream",
          "name": "stdout",
          "text": [
            "openjdk version \"1.8.0_362\"\n",
            "OpenJDK Runtime Environment (build 1.8.0_362-8u362-ga-0ubuntu1~20.04.1-b09)\n",
            "OpenJDK 64-Bit Server VM (build 25.362-b09, mixed mode)\n"
          ]
        }
      ]
    },
    {
      "cell_type": "markdown",
      "source": [
        "Creating Java related environment variables"
      ],
      "metadata": {
        "id": "K4xYHnO72Gwo"
      }
    },
    {
      "cell_type": "markdown",
      "source": [
        "The JAVA_HOME is an operating system environment variable points to the file system location where the JDK or JRE was installed."
      ],
      "metadata": {
        "id": "vBzOrjQ3nRlI"
      }
    },
    {
      "cell_type": "code",
      "source": [
        "#Finding the default Java path\n",
        "!readlink -f /usr/bin/java | sed \"s:bin/java::\""
      ],
      "metadata": {
        "id": "kXFJVGrIdYbW",
        "colab": {
          "base_uri": "https://localhost:8080/"
        },
        "outputId": "aadfe53e-933c-4026-a400-ba7a7c5e1d43"
      },
      "execution_count": null,
      "outputs": [
        {
          "output_type": "stream",
          "name": "stdout",
          "text": [
            "/usr/lib/jvm/java-8-openjdk-amd64/jre/\n"
          ]
        }
      ]
    },
    {
      "cell_type": "code",
      "source": [
        "#Importing os module\n",
        "import os\n",
        "#Creating environment variables\n",
        "os.environ[\"JAVA_HOME\"] = \"/usr/lib/jvm/java-8-openjdk-amd64\"\n",
        "os.environ[\"JRE_HOME\"] = \"/usr/lib/jvm/java-8-openjdk-amd64/jre\"\n",
        "os.environ[\"PATH\"] += \":$JAVA_HOME/bin:$JRE_HOME/bin:$HADOOP_HOME/bin:$HADOOP_HOME/sbin\""
      ],
      "metadata": {
        "id": "0am0Ybf6cyvX"
      },
      "execution_count": null,
      "outputs": []
    },
    {
      "cell_type": "markdown",
      "source": [
        "## Installing Secure Shell Server (SSHD)"
      ],
      "metadata": {
        "id": "KRWvrIpCr3-A"
      }
    },
    {
      "cell_type": "markdown",
      "source": [
        "We need to define a means for the master node to remotely access every node in our cluster.\n",
        "\n",
        "Hadoop uses passphrases SSH for the communication between the nodes."
      ],
      "metadata": {
        "id": "P2-dYIkaBb2d"
      }
    },
    {
      "cell_type": "markdown",
      "source": [
        "SSH is a cryptographic network protocol for operating network services securely over an unsecured network.\n",
        "\n",
        "SSH utilizes standard public key criptography to create a pair of keys for user verification: one public and one private."
      ],
      "metadata": {
        "id": "F26UBlxmCe0f"
      }
    },
    {
      "cell_type": "code",
      "source": [
        "#It is good practice to purge before installation\n",
        "!apt-get purge openssh-server -qq"
      ],
      "metadata": {
        "id": "akOe9EEDsc0u"
      },
      "execution_count": null,
      "outputs": []
    },
    {
      "cell_type": "code",
      "source": [
        "#Installing openssh-server\n",
        "!apt-get install openssh-server -qq > /dev/null"
      ],
      "metadata": {
        "id": "3TR6IHVTsqYJ"
      },
      "execution_count": null,
      "outputs": []
    },
    {
      "cell_type": "code",
      "source": [
        "#Starting the server\n",
        "!service ssh start"
      ],
      "metadata": {
        "colab": {
          "base_uri": "https://localhost:8080/"
        },
        "id": "BSAhIFipdEg-",
        "outputId": "c59d14c2-b613-4c1f-bfdb-6bec38ec91ba"
      },
      "execution_count": null,
      "outputs": [
        {
          "output_type": "stream",
          "name": "stdout",
          "text": [
            " * Starting OpenBSD Secure Shell server sshd\n",
            "   ...done.\n"
          ]
        }
      ]
    },
    {
      "cell_type": "markdown",
      "source": [
        "The port number for SSH is 22 by default"
      ],
      "metadata": {
        "id": "qLGhrALUJBHb"
      }
    },
    {
      "cell_type": "code",
      "source": [
        "!grep Port /etc/ssh/sshd_config"
      ],
      "metadata": {
        "colab": {
          "base_uri": "https://localhost:8080/"
        },
        "id": "KLChmkJQSph0",
        "outputId": "4a67cdbd-3e70-4d0e-be0e-ecd75cf655c0"
      },
      "execution_count": null,
      "outputs": [
        {
          "output_type": "stream",
          "name": "stdout",
          "text": [
            "#Port 22\n",
            "#GatewayPorts no\n"
          ]
        }
      ]
    },
    {
      "cell_type": "markdown",
      "source": [
        "The pseudo distributed mode is special case of fully the distributed mode, in which the single host is localhost (our machine). We need to make sure that to access to localhost and login we do not need to enter a password. Therefore, SSH needs to be set up to allow passwordless login for the Hadoop user. The simplest way to achive this is to generate a public-private key pair."
      ],
      "metadata": {
        "id": "uEVnYmY4Dk3b"
      }
    },
    {
      "cell_type": "code",
      "source": [
        "#Creating a new rsa key pair with empty password\n",
        "!ssh-keygen -t rsa -P \"\" -f ~/.ssh/id_rsa"
      ],
      "metadata": {
        "colab": {
          "base_uri": "https://localhost:8080/"
        },
        "id": "GrVaVZ--s32h",
        "outputId": "956b44c7-748d-4a59-f22e-fea7e4b24732"
      },
      "execution_count": null,
      "outputs": [
        {
          "output_type": "stream",
          "name": "stdout",
          "text": [
            "Generating public/private rsa key pair.\n",
            "Created directory '/root/.ssh'.\n",
            "Your identification has been saved in /root/.ssh/id_rsa\n",
            "Your public key has been saved in /root/.ssh/id_rsa.pub\n",
            "The key fingerprint is:\n",
            "SHA256:3X5jSh2su/Ufqp0ETQOzuUJD7vGxD4nQNBIAO2Lx7mY root@194f4fd5397a\n",
            "The key's randomart image is:\n",
            "+---[RSA 3072]----+\n",
            "| . ....o.+ o     |\n",
            "|  o .   * . =    |\n",
            "| o +   . * + o   |\n",
            "|. o .   +.=.B..  |\n",
            "|   .    S+.B..o  |\n",
            "|  .       ..+o . |\n",
            "|   E        +o*. |\n",
            "|  o        .o*oo.|\n",
            "|           .==  +|\n",
            "+----[SHA256]-----+\n"
          ]
        }
      ]
    },
    {
      "cell_type": "code",
      "source": [
        "#Showing the public key\n",
        "!more /root/.ssh/id_rsa.pub"
      ],
      "metadata": {
        "id": "EaMOu0NJta2N",
        "colab": {
          "base_uri": "https://localhost:8080/"
        },
        "outputId": "4bac04f5-3fd3-474a-d142-55bd5964df2a"
      },
      "execution_count": null,
      "outputs": [
        {
          "output_type": "stream",
          "name": "stdout",
          "text": [
            "ssh-rsa AAAAB3NzaC1yc2EAAAADAQABAAABgQDKw09WYxOWeXe9VikFUx9Jcrg4G7qSDf4Du1uOdYwq\n",
            "SJPPsL+VPnCK/jwRgmoZnJmgE0AncN77RKurgcGwd8VJRjkSBGaE6Ry+4z16/59PwwLaa2iDKKhi3Anh\n",
            "A6wAqhKpf3o12suGoo0OoQIGxfL9Fpzk1N94tLEhH2Vbu0NbxwVdg8iPbCUxoAOAM6x/0Q7S71a0b9wl\n",
            "J7hSx7vp0Nl2WJgDRo29JDR/+PVDCCqSouv+tK0zqeQVCUSQfmyritCGkyq3fsz9DBasLNN0AfjHDlKG\n",
            "ciHaJD0JAY0NTS+qaWThMsGBdTfEMuwb0KT/UpK6j3finPtR0PzF5YwJI+bG5OKN3Nsc3zzNMEV1z9v0\n",
            "l2mij+CpCP/leipwWyJAL5o5G/X6I7+l3SeNqY4dCoi+K4BoEhIORPH0V7gcZvUnlKAUuMvlfO4Mvun3\n",
            "KurwHmY4u6cBSqC3xi0muu/4LGkpWVVgz9lDEOVXT5wW/ISTt2PDGwwoHgBtKRAND2KQwwU= root@19\n",
            "4f4fd5397a\n"
          ]
        }
      ]
    },
    {
      "cell_type": "code",
      "source": [
        "#Copying the key to autorized keys\n",
        "!cat $HOME/.ssh/id_rsa.pub>>$HOME/.ssh/authorized_keys\n",
        "#Changing the permissions on the key\n",
        "!chmod 0600 ~/.ssh/authorized_keys"
      ],
      "metadata": {
        "id": "s3pLGo6utsNC"
      },
      "execution_count": null,
      "outputs": []
    },
    {
      "cell_type": "code",
      "source": [
        "#Conneting with the local machine\n",
        "!ssh -o StrictHostKeyChecking=no localhost uptime"
      ],
      "metadata": {
        "colab": {
          "base_uri": "https://localhost:8080/"
        },
        "id": "qz7fc93DaX7Z",
        "outputId": "33112a1e-0e49-4349-f2c5-e990947336e7"
      },
      "execution_count": null,
      "outputs": [
        {
          "output_type": "stream",
          "name": "stdout",
          "text": [
            "Warning: Permanently added 'localhost' (ECDSA) to the list of known hosts.\r\n",
            " 01:04:03 up 1 min,  0 users,  load average: 2.17, 0.93, 0.34\n"
          ]
        }
      ]
    },
    {
      "cell_type": "markdown",
      "source": [
        "## Installing Hadoop 3.3.5"
      ],
      "metadata": {
        "id": "qCeL0IBlrnoF"
      }
    },
    {
      "cell_type": "code",
      "source": [
        "#Downloading Hadoop 3.3.5\n",
        "!wget -q https://dlcdn.apache.org/hadoop/common/hadoop-3.3.5/hadoop-3.3.5.tar.gz"
      ],
      "metadata": {
        "id": "t6w9exw9c11y"
      },
      "execution_count": null,
      "outputs": []
    },
    {
      "cell_type": "code",
      "source": [
        "#Untarring the file\n",
        "!sudo tar -xzf hadoop-3.3.5.tar.gz\n",
        "#Removing the tar file\n",
        "!rm hadoop-3.3.5.tar.gz"
      ],
      "metadata": {
        "id": "Ngsl1XNPdOP0"
      },
      "execution_count": null,
      "outputs": []
    },
    {
      "cell_type": "markdown",
      "source": [
        "Standard location to install Hadoop are\n",
        "\n",
        "*   /usr/local\n",
        "*   /opt"
      ],
      "metadata": {
        "id": "PmoGNehEKW_X"
      }
    },
    {
      "cell_type": "code",
      "source": [
        "#Copying the hadoop files to user/local\n",
        "!cp -r hadoop-3.3.5/ /usr/local/\n",
        "#-r copy directories recursively"
      ],
      "metadata": {
        "id": "bb1_Uve9dUX1"
      },
      "execution_count": null,
      "outputs": []
    },
    {
      "cell_type": "code",
      "source": [
        "#Exploring hadoop-3.3.5/etc/hadoop directory\n",
        "!ls /usr/local/hadoop-3.3.5/etc/hadoop\n",
        "#we can see various configuration files of hadoop "
      ],
      "metadata": {
        "id": "YJqjMBenAqWf",
        "colab": {
          "base_uri": "https://localhost:8080/"
        },
        "outputId": "6a28356e-2792-408b-b10e-feb2b78efa89"
      },
      "execution_count": null,
      "outputs": [
        {
          "output_type": "stream",
          "name": "stdout",
          "text": [
            "capacity-scheduler.xml\t\t  kms-log4j.properties\n",
            "configuration.xsl\t\t  kms-site.xml\n",
            "container-executor.cfg\t\t  log4j.properties\n",
            "core-site.xml\t\t\t  mapred-env.cmd\n",
            "hadoop-env.cmd\t\t\t  mapred-env.sh\n",
            "hadoop-env.sh\t\t\t  mapred-queues.xml.template\n",
            "hadoop-metrics2.properties\t  mapred-site.xml\n",
            "hadoop-policy.xml\t\t  shellprofile.d\n",
            "hadoop-user-functions.sh.example  ssl-client.xml.example\n",
            "hdfs-rbf-site.xml\t\t  ssl-server.xml.example\n",
            "hdfs-site.xml\t\t\t  user_ec_policies.xml.template\n",
            "httpfs-env.sh\t\t\t  workers\n",
            "httpfs-log4j.properties\t\t  yarn-env.cmd\n",
            "httpfs-site.xml\t\t\t  yarn-env.sh\n",
            "kms-acls.xml\t\t\t  yarnservice-log4j.properties\n",
            "kms-env.sh\t\t\t  yarn-site.xml\n"
          ]
        }
      ]
    },
    {
      "cell_type": "markdown",
      "source": [
        "We need to configure a few things before running Hadoop. That is, we need to either add or modify few parameters in these configuration files to operate Hadoop in whichever mode we want to. "
      ],
      "metadata": {
        "id": "cx80yeBMBUDT"
      }
    },
    {
      "cell_type": "code",
      "source": [],
      "metadata": {
        "id": "HjMtw0o1Fp-r"
      },
      "execution_count": null,
      "outputs": []
    },
    {
      "cell_type": "markdown",
      "source": [
        "Configuring hadoop-env.sh file"
      ],
      "metadata": {
        "id": "0mFNgy1--JYr"
      }
    },
    {
      "cell_type": "markdown",
      "source": [
        "hadoop-env.sh is a bash script that containts environment variables that are used in the scripts to run Hadoop"
      ],
      "metadata": {
        "id": "hLjfw00rCIFq"
      }
    },
    {
      "cell_type": "code",
      "source": [
        "#Exploring hadoop-env.sh file\n",
        "!cat /usr/local/hadoop-3.3.5/etc/hadoop/hadoop-env.sh"
      ],
      "metadata": {
        "id": "-JiNs3H7FrmI",
        "colab": {
          "base_uri": "https://localhost:8080/"
        },
        "outputId": "06e75406-1b7e-4c7d-a825-689a4fe27157"
      },
      "execution_count": null,
      "outputs": [
        {
          "output_type": "stream",
          "name": "stdout",
          "text": [
            "#\n",
            "# Licensed to the Apache Software Foundation (ASF) under one\n",
            "# or more contributor license agreements.  See the NOTICE file\n",
            "# distributed with this work for additional information\n",
            "# regarding copyright ownership.  The ASF licenses this file\n",
            "# to you under the Apache License, Version 2.0 (the\n",
            "# \"License\"); you may not use this file except in compliance\n",
            "# with the License.  You may obtain a copy of the License at\n",
            "#\n",
            "#     http://www.apache.org/licenses/LICENSE-2.0\n",
            "#\n",
            "# Unless required by applicable law or agreed to in writing, software\n",
            "# distributed under the License is distributed on an \"AS IS\" BASIS,\n",
            "# WITHOUT WARRANTIES OR CONDITIONS OF ANY KIND, either express or implied.\n",
            "# See the License for the specific language governing permissions and\n",
            "# limitations under the License.\n",
            "\n",
            "# Set Hadoop-specific environment variables here.\n",
            "\n",
            "##\n",
            "## THIS FILE ACTS AS THE MASTER FILE FOR ALL HADOOP PROJECTS.\n",
            "## SETTINGS HERE WILL BE READ BY ALL HADOOP COMMANDS.  THEREFORE,\n",
            "## ONE CAN USE THIS FILE TO SET YARN, HDFS, AND MAPREDUCE\n",
            "## CONFIGURATION OPTIONS INSTEAD OF xxx-env.sh.\n",
            "##\n",
            "## Precedence rules:\n",
            "##\n",
            "## {yarn-env.sh|hdfs-env.sh} > hadoop-env.sh > hard-coded defaults\n",
            "##\n",
            "## {YARN_xyz|HDFS_xyz} > HADOOP_xyz > hard-coded defaults\n",
            "##\n",
            "\n",
            "# Many of the options here are built from the perspective that users\n",
            "# may want to provide OVERWRITING values on the command line.\n",
            "# For example:\n",
            "#\n",
            "#  JAVA_HOME=/usr/java/testing hdfs dfs -ls\n",
            "#\n",
            "# Therefore, the vast majority (BUT NOT ALL!) of these defaults\n",
            "# are configured for substitution and not append.  If append\n",
            "# is preferable, modify this file accordingly.\n",
            "\n",
            "###\n",
            "# Generic settings for HADOOP\n",
            "###\n",
            "\n",
            "# Technically, the only required environment variable is JAVA_HOME.\n",
            "# All others are optional.  However, the defaults are probably not\n",
            "# preferred.  Many sites configure these options outside of Hadoop,\n",
            "# such as in /etc/profile.d\n",
            "\n",
            "# The java implementation to use. By default, this environment\n",
            "# variable is REQUIRED on ALL platforms except OS X!\n",
            "# export JAVA_HOME=\n",
            "\n",
            "# Location of Hadoop.  By default, Hadoop will attempt to determine\n",
            "# this location based upon its execution path.\n",
            "# export HADOOP_HOME=\n",
            "\n",
            "# Location of Hadoop's configuration information.  i.e., where this\n",
            "# file is living. If this is not defined, Hadoop will attempt to\n",
            "# locate it based upon its execution path.\n",
            "#\n",
            "# NOTE: It is recommend that this variable not be set here but in\n",
            "# /etc/profile.d or equivalent.  Some options (such as\n",
            "# --config) may react strangely otherwise.\n",
            "#\n",
            "# export HADOOP_CONF_DIR=${HADOOP_HOME}/etc/hadoop\n",
            "\n",
            "# The maximum amount of heap to use (Java -Xmx).  If no unit\n",
            "# is provided, it will be converted to MB.  Daemons will\n",
            "# prefer any Xmx setting in their respective _OPT variable.\n",
            "# There is no default; the JVM will autoscale based upon machine\n",
            "# memory size.\n",
            "# export HADOOP_HEAPSIZE_MAX=\n",
            "\n",
            "# The minimum amount of heap to use (Java -Xms).  If no unit\n",
            "# is provided, it will be converted to MB.  Daemons will\n",
            "# prefer any Xms setting in their respective _OPT variable.\n",
            "# There is no default; the JVM will autoscale based upon machine\n",
            "# memory size.\n",
            "# export HADOOP_HEAPSIZE_MIN=\n",
            "\n",
            "# Enable extra debugging of Hadoop's JAAS binding, used to set up\n",
            "# Kerberos security.\n",
            "# export HADOOP_JAAS_DEBUG=true\n",
            "\n",
            "# Extra Java runtime options for all Hadoop commands. We don't support\n",
            "# IPv6 yet/still, so by default the preference is set to IPv4.\n",
            "# export HADOOP_OPTS=\"-Djava.net.preferIPv4Stack=true\"\n",
            "# For Kerberos debugging, an extended option set logs more information\n",
            "# export HADOOP_OPTS=\"-Djava.net.preferIPv4Stack=true -Dsun.security.krb5.debug=true -Dsun.security.spnego.debug\"\n",
            "\n",
            "# Some parts of the shell code may do special things dependent upon\n",
            "# the operating system.  We have to set this here. See the next\n",
            "# section as to why....\n",
            "export HADOOP_OS_TYPE=${HADOOP_OS_TYPE:-$(uname -s)}\n",
            "\n",
            "# Extra Java runtime options for some Hadoop commands\n",
            "# and clients (i.e., hdfs dfs -blah).  These get appended to HADOOP_OPTS for\n",
            "# such commands.  In most cases, # this should be left empty and\n",
            "# let users supply it on the command line.\n",
            "# export HADOOP_CLIENT_OPTS=\"\"\n",
            "\n",
            "#\n",
            "# A note about classpaths.\n",
            "#\n",
            "# By default, Apache Hadoop overrides Java's CLASSPATH\n",
            "# environment variable.  It is configured such\n",
            "# that it starts out blank with new entries added after passing\n",
            "# a series of checks (file/dir exists, not already listed aka\n",
            "# de-deduplication).  During de-deduplication, wildcards and/or\n",
            "# directories are *NOT* expanded to keep it simple. Therefore,\n",
            "# if the computed classpath has two specific mentions of\n",
            "# awesome-methods-1.0.jar, only the first one added will be seen.\n",
            "# If two directories are in the classpath that both contain\n",
            "# awesome-methods-1.0.jar, then Java will pick up both versions.\n",
            "\n",
            "# An additional, custom CLASSPATH. Site-wide configs should be\n",
            "# handled via the shellprofile functionality, utilizing the\n",
            "# hadoop_add_classpath function for greater control and much\n",
            "# harder for apps/end-users to accidentally override.\n",
            "# Similarly, end users should utilize ${HOME}/.hadooprc .\n",
            "# This variable should ideally only be used as a short-cut,\n",
            "# interactive way for temporary additions on the command line.\n",
            "# export HADOOP_CLASSPATH=\"/some/cool/path/on/your/machine\"\n",
            "\n",
            "# Should HADOOP_CLASSPATH be first in the official CLASSPATH?\n",
            "# export HADOOP_USER_CLASSPATH_FIRST=\"yes\"\n",
            "\n",
            "# If HADOOP_USE_CLIENT_CLASSLOADER is set, the classpath along\n",
            "# with the main jar are handled by a separate isolated\n",
            "# client classloader when 'hadoop jar', 'yarn jar', or 'mapred job'\n",
            "# is utilized. If it is set, HADOOP_CLASSPATH and\n",
            "# HADOOP_USER_CLASSPATH_FIRST are ignored.\n",
            "# export HADOOP_USE_CLIENT_CLASSLOADER=true\n",
            "\n",
            "# HADOOP_CLIENT_CLASSLOADER_SYSTEM_CLASSES overrides the default definition of\n",
            "# system classes for the client classloader when HADOOP_USE_CLIENT_CLASSLOADER\n",
            "# is enabled. Names ending in '.' (period) are treated as package names, and\n",
            "# names starting with a '-' are treated as negative matches. For example,\n",
            "# export HADOOP_CLIENT_CLASSLOADER_SYSTEM_CLASSES=\"-org.apache.hadoop.UserClass,java.,javax.,org.apache.hadoop.\"\n",
            "\n",
            "# Enable optional, bundled Hadoop features\n",
            "# This is a comma delimited list.  It may NOT be overridden via .hadooprc\n",
            "# Entries may be added/removed as needed.\n",
            "# export HADOOP_OPTIONAL_TOOLS=\"hadoop-kafka,hadoop-aliyun,hadoop-azure,hadoop-azure-datalake,hadoop-aws\"\n",
            "\n",
            "###\n",
            "# Options for remote shell connectivity\n",
            "###\n",
            "\n",
            "# There are some optional components of hadoop that allow for\n",
            "# command and control of remote hosts.  For example,\n",
            "# start-dfs.sh will attempt to bring up all NNs, DNS, etc.\n",
            "\n",
            "# Options to pass to SSH when one of the \"log into a host and\n",
            "# start/stop daemons\" scripts is executed\n",
            "# export HADOOP_SSH_OPTS=\"-o BatchMode=yes -o StrictHostKeyChecking=no -o ConnectTimeout=10s\"\n",
            "\n",
            "# The built-in ssh handler will limit itself to 10 simultaneous connections.\n",
            "# For pdsh users, this sets the fanout size ( -f )\n",
            "# Change this to increase/decrease as necessary.\n",
            "# export HADOOP_SSH_PARALLEL=10\n",
            "\n",
            "# Filename which contains all of the hosts for any remote execution\n",
            "# helper scripts # such as workers.sh, start-dfs.sh, etc.\n",
            "# export HADOOP_WORKERS=\"${HADOOP_CONF_DIR}/workers\"\n",
            "\n",
            "###\n",
            "# Options for all daemons\n",
            "###\n",
            "#\n",
            "\n",
            "#\n",
            "# Many options may also be specified as Java properties.  It is\n",
            "# very common, and in many cases, desirable, to hard-set these\n",
            "# in daemon _OPTS variables.  Where applicable, the appropriate\n",
            "# Java property is also identified.  Note that many are re-used\n",
            "# or set differently in certain contexts (e.g., secure vs\n",
            "# non-secure)\n",
            "#\n",
            "\n",
            "# Where (primarily) daemon log files are stored.\n",
            "# ${HADOOP_HOME}/logs by default.\n",
            "# Java property: hadoop.log.dir\n",
            "# export HADOOP_LOG_DIR=${HADOOP_HOME}/logs\n",
            "\n",
            "# A string representing this instance of hadoop. $USER by default.\n",
            "# This is used in writing log and pid files, so keep that in mind!\n",
            "# Java property: hadoop.id.str\n",
            "# export HADOOP_IDENT_STRING=$USER\n",
            "\n",
            "# How many seconds to pause after stopping a daemon\n",
            "# export HADOOP_STOP_TIMEOUT=5\n",
            "\n",
            "# Where pid files are stored.  /tmp by default.\n",
            "# export HADOOP_PID_DIR=/tmp\n",
            "\n",
            "# Default log4j setting for interactive commands\n",
            "# Java property: hadoop.root.logger\n",
            "# export HADOOP_ROOT_LOGGER=INFO,console\n",
            "\n",
            "# Default log4j setting for daemons spawned explicitly by\n",
            "# --daemon option of hadoop, hdfs, mapred and yarn command.\n",
            "# Java property: hadoop.root.logger\n",
            "# export HADOOP_DAEMON_ROOT_LOGGER=INFO,RFA\n",
            "\n",
            "# Default log level and output location for security-related messages.\n",
            "# You will almost certainly want to change this on a per-daemon basis via\n",
            "# the Java property (i.e., -Dhadoop.security.logger=foo). (Note that the\n",
            "# defaults for the NN and 2NN override this by default.)\n",
            "# Java property: hadoop.security.logger\n",
            "# export HADOOP_SECURITY_LOGGER=INFO,NullAppender\n",
            "\n",
            "# Default process priority level\n",
            "# Note that sub-processes will also run at this level!\n",
            "# export HADOOP_NICENESS=0\n",
            "\n",
            "# Default name for the service level authorization file\n",
            "# Java property: hadoop.policy.file\n",
            "# export HADOOP_POLICYFILE=\"hadoop-policy.xml\"\n",
            "\n",
            "#\n",
            "# NOTE: this is not used by default!  <-----\n",
            "# You can define variables right here and then re-use them later on.\n",
            "# For example, it is common to use the same garbage collection settings\n",
            "# for all the daemons.  So one could define:\n",
            "#\n",
            "# export HADOOP_GC_SETTINGS=\"-verbose:gc -XX:+PrintGCDetails -XX:+PrintGCTimeStamps -XX:+PrintGCDateStamps\"\n",
            "#\n",
            "# .. and then use it as per the b option under the namenode.\n",
            "\n",
            "###\n",
            "# Secure/privileged execution\n",
            "###\n",
            "\n",
            "#\n",
            "# Out of the box, Hadoop uses jsvc from Apache Commons to launch daemons\n",
            "# on privileged ports.  This functionality can be replaced by providing\n",
            "# custom functions.  See hadoop-functions.sh for more information.\n",
            "#\n",
            "\n",
            "# The jsvc implementation to use. Jsvc is required to run secure datanodes\n",
            "# that bind to privileged ports to provide authentication of data transfer\n",
            "# protocol.  Jsvc is not required if SASL is configured for authentication of\n",
            "# data transfer protocol using non-privileged ports.\n",
            "# export JSVC_HOME=/usr/bin\n",
            "\n",
            "#\n",
            "# This directory contains pids for secure and privileged processes.\n",
            "#export HADOOP_SECURE_PID_DIR=${HADOOP_PID_DIR}\n",
            "\n",
            "#\n",
            "# This directory contains the logs for secure and privileged processes.\n",
            "# Java property: hadoop.log.dir\n",
            "# export HADOOP_SECURE_LOG=${HADOOP_LOG_DIR}\n",
            "\n",
            "#\n",
            "# When running a secure daemon, the default value of HADOOP_IDENT_STRING\n",
            "# ends up being a bit bogus.  Therefore, by default, the code will\n",
            "# replace HADOOP_IDENT_STRING with HADOOP_xx_SECURE_USER.  If one wants\n",
            "# to keep HADOOP_IDENT_STRING untouched, then uncomment this line.\n",
            "# export HADOOP_SECURE_IDENT_PRESERVE=\"true\"\n",
            "\n",
            "###\n",
            "# NameNode specific parameters\n",
            "###\n",
            "\n",
            "# Default log level and output location for file system related change\n",
            "# messages. For non-namenode daemons, the Java property must be set in\n",
            "# the appropriate _OPTS if one wants something other than INFO,NullAppender\n",
            "# Java property: hdfs.audit.logger\n",
            "# export HDFS_AUDIT_LOGGER=INFO,NullAppender\n",
            "\n",
            "# Specify the JVM options to be used when starting the NameNode.\n",
            "# These options will be appended to the options specified as HADOOP_OPTS\n",
            "# and therefore may override any similar flags set in HADOOP_OPTS\n",
            "#\n",
            "# a) Set JMX options\n",
            "# export HDFS_NAMENODE_OPTS=\"-Dcom.sun.management.jmxremote=true -Dcom.sun.management.jmxremote.authenticate=false -Dcom.sun.management.jmxremote.ssl=false -Dcom.sun.management.jmxremote.port=1026\"\n",
            "#\n",
            "# b) Set garbage collection logs\n",
            "# export HDFS_NAMENODE_OPTS=\"${HADOOP_GC_SETTINGS} -Xloggc:${HADOOP_LOG_DIR}/gc-rm.log-$(date +'%Y%m%d%H%M')\"\n",
            "#\n",
            "# c) ... or set them directly\n",
            "# export HDFS_NAMENODE_OPTS=\"-verbose:gc -XX:+PrintGCDetails -XX:+PrintGCTimeStamps -XX:+PrintGCDateStamps -Xloggc:${HADOOP_LOG_DIR}/gc-rm.log-$(date +'%Y%m%d%H%M')\"\n",
            "\n",
            "# this is the default:\n",
            "# export HDFS_NAMENODE_OPTS=\"-Dhadoop.security.logger=INFO,RFAS\"\n",
            "\n",
            "###\n",
            "# SecondaryNameNode specific parameters\n",
            "###\n",
            "# Specify the JVM options to be used when starting the SecondaryNameNode.\n",
            "# These options will be appended to the options specified as HADOOP_OPTS\n",
            "# and therefore may override any similar flags set in HADOOP_OPTS\n",
            "#\n",
            "# This is the default:\n",
            "# export HDFS_SECONDARYNAMENODE_OPTS=\"-Dhadoop.security.logger=INFO,RFAS\"\n",
            "\n",
            "###\n",
            "# DataNode specific parameters\n",
            "###\n",
            "# Specify the JVM options to be used when starting the DataNode.\n",
            "# These options will be appended to the options specified as HADOOP_OPTS\n",
            "# and therefore may override any similar flags set in HADOOP_OPTS\n",
            "#\n",
            "# This is the default:\n",
            "# export HDFS_DATANODE_OPTS=\"-Dhadoop.security.logger=ERROR,RFAS\"\n",
            "\n",
            "# On secure datanodes, user to run the datanode as after dropping privileges.\n",
            "# This **MUST** be uncommented to enable secure HDFS if using privileged ports\n",
            "# to provide authentication of data transfer protocol.  This **MUST NOT** be\n",
            "# defined if SASL is configured for authentication of data transfer protocol\n",
            "# using non-privileged ports.\n",
            "# This will replace the hadoop.id.str Java property in secure mode.\n",
            "# export HDFS_DATANODE_SECURE_USER=hdfs\n",
            "\n",
            "# Supplemental options for secure datanodes\n",
            "# By default, Hadoop uses jsvc which needs to know to launch a\n",
            "# server jvm.\n",
            "# export HDFS_DATANODE_SECURE_EXTRA_OPTS=\"-jvm server\"\n",
            "\n",
            "###\n",
            "# NFS3 Gateway specific parameters\n",
            "###\n",
            "# Specify the JVM options to be used when starting the NFS3 Gateway.\n",
            "# These options will be appended to the options specified as HADOOP_OPTS\n",
            "# and therefore may override any similar flags set in HADOOP_OPTS\n",
            "#\n",
            "# export HDFS_NFS3_OPTS=\"\"\n",
            "\n",
            "# Specify the JVM options to be used when starting the Hadoop portmapper.\n",
            "# These options will be appended to the options specified as HADOOP_OPTS\n",
            "# and therefore may override any similar flags set in HADOOP_OPTS\n",
            "#\n",
            "# export HDFS_PORTMAP_OPTS=\"-Xmx512m\"\n",
            "\n",
            "# Supplemental options for priviliged gateways\n",
            "# By default, Hadoop uses jsvc which needs to know to launch a\n",
            "# server jvm.\n",
            "# export HDFS_NFS3_SECURE_EXTRA_OPTS=\"-jvm server\"\n",
            "\n",
            "# On privileged gateways, user to run the gateway as after dropping privileges\n",
            "# This will replace the hadoop.id.str Java property in secure mode.\n",
            "# export HDFS_NFS3_SECURE_USER=nfsserver\n",
            "\n",
            "###\n",
            "# ZKFailoverController specific parameters\n",
            "###\n",
            "# Specify the JVM options to be used when starting the ZKFailoverController.\n",
            "# These options will be appended to the options specified as HADOOP_OPTS\n",
            "# and therefore may override any similar flags set in HADOOP_OPTS\n",
            "#\n",
            "# export HDFS_ZKFC_OPTS=\"\"\n",
            "\n",
            "###\n",
            "# QuorumJournalNode specific parameters\n",
            "###\n",
            "# Specify the JVM options to be used when starting the QuorumJournalNode.\n",
            "# These options will be appended to the options specified as HADOOP_OPTS\n",
            "# and therefore may override any similar flags set in HADOOP_OPTS\n",
            "#\n",
            "# export HDFS_JOURNALNODE_OPTS=\"\"\n",
            "\n",
            "###\n",
            "# HDFS Balancer specific parameters\n",
            "###\n",
            "# Specify the JVM options to be used when starting the HDFS Balancer.\n",
            "# These options will be appended to the options specified as HADOOP_OPTS\n",
            "# and therefore may override any similar flags set in HADOOP_OPTS\n",
            "#\n",
            "# export HDFS_BALANCER_OPTS=\"\"\n",
            "\n",
            "###\n",
            "# HDFS Mover specific parameters\n",
            "###\n",
            "# Specify the JVM options to be used when starting the HDFS Mover.\n",
            "# These options will be appended to the options specified as HADOOP_OPTS\n",
            "# and therefore may override any similar flags set in HADOOP_OPTS\n",
            "#\n",
            "# export HDFS_MOVER_OPTS=\"\"\n",
            "\n",
            "###\n",
            "# Router-based HDFS Federation specific parameters\n",
            "# Specify the JVM options to be used when starting the RBF Routers.\n",
            "# These options will be appended to the options specified as HADOOP_OPTS\n",
            "# and therefore may override any similar flags set in HADOOP_OPTS\n",
            "#\n",
            "# export HDFS_DFSROUTER_OPTS=\"\"\n",
            "\n",
            "###\n",
            "# HDFS StorageContainerManager specific parameters\n",
            "###\n",
            "# Specify the JVM options to be used when starting the HDFS Storage Container Manager.\n",
            "# These options will be appended to the options specified as HADOOP_OPTS\n",
            "# and therefore may override any similar flags set in HADOOP_OPTS\n",
            "#\n",
            "# export HDFS_STORAGECONTAINERMANAGER_OPTS=\"\"\n",
            "\n",
            "###\n",
            "# Advanced Users Only!\n",
            "###\n",
            "\n",
            "#\n",
            "# When building Hadoop, one can add the class paths to the commands\n",
            "# via this special env var:\n",
            "# export HADOOP_ENABLE_BUILD_PATHS=\"true\"\n",
            "\n",
            "#\n",
            "# To prevent accidents, shell commands be (superficially) locked\n",
            "# to only allow certain users to execute certain subcommands.\n",
            "# It uses the format of (command)_(subcommand)_USER.\n",
            "#\n",
            "# For example, to limit who can execute the namenode command,\n",
            "# export HDFS_NAMENODE_USER=hdfs\n",
            "\n",
            "\n",
            "###\n",
            "# Registry DNS specific parameters\n",
            "###\n",
            "# For privileged registry DNS, user to run as after dropping privileges\n",
            "# This will replace the hadoop.id.str Java property in secure mode.\n",
            "# export HADOOP_REGISTRYDNS_SECURE_USER=yarn\n",
            "\n",
            "# Supplemental options for privileged registry DNS\n",
            "# By default, Hadoop uses jsvc which needs to know to launch a\n",
            "# server jvm.\n",
            "# export HADOOP_REGISTRYDNS_SECURE_EXTRA_OPTS=\"-jvm server\"\n"
          ]
        }
      ]
    },
    {
      "cell_type": "markdown",
      "source": [
        "The only required enviroment variable is **JAVA_HOME**. All the others are optional.\n",
        "\n",
        "To specify the JAVA_HOME variable in hadoop-env.sh we need to uncomment the export line and update it with the actual directory.\n",
        "\n",
        "In this case it should look like this:\n",
        "\n",
        "`export JAVA_HOME=/usr/lib/jvm/java-8-openjdk-amd64`"
      ],
      "metadata": {
        "id": "3o9SROCEHl72"
      }
    },
    {
      "cell_type": "code",
      "source": [
        "#Adding JAVA_HOME directory to hadoop-env.sh file\n",
        "!sed -i '/export JAVA_HOME=/a export JAVA_HOME=\\/usr\\/lib\\/jvm\\/java-8-openjdk-amd64' /usr/local/hadoop-3.3.5/etc/hadoop/hadoop-env.sh"
      ],
      "metadata": {
        "id": "TeCM3uiCXvF-"
      },
      "execution_count": null,
      "outputs": []
    },
    {
      "cell_type": "markdown",
      "source": [
        "Because it is convinient we create an environment variable that points to the Hadoop installation directory"
      ],
      "metadata": {
        "id": "sX6dPYTcMU5A"
      }
    },
    {
      "cell_type": "code",
      "source": [
        "#Creating Hadoop home variable\n",
        "os.environ[\"HADOOP_HOME\"] = \"/usr/local/hadoop-3.3.5\""
      ],
      "metadata": {
        "id": "rNtD2mvkMs5x"
      },
      "execution_count": null,
      "outputs": []
    },
    {
      "cell_type": "markdown",
      "source": [
        "Configuring XML files\n",
        "\n",
        "The majority of Hadoop setting are contained in XML configuration files. These files are also known as **resources**.\n",
        "\n",
        "They have the following structure:\n",
        "\n",
        "\n",
        "```\n",
        "<configuration>\n",
        "...\n",
        "  <property>\n",
        "    <name>...</name>\n",
        "    <value>...</value>\n",
        "    <description>...</description>\n",
        "  </property>\n",
        "...\n",
        "</configuration>\n",
        "```\n",
        "\n"
      ],
      "metadata": {
        "id": "dCws8A6MOC1K"
      }
    },
    {
      "cell_type": "markdown",
      "source": [
        "The XLM file can contained any number of the property elements. Each property element defines a specific configuration name-value pair."
      ],
      "metadata": {
        "id": "-nBTuk9wO7ow"
      }
    },
    {
      "cell_type": "markdown",
      "source": [
        "Hadoop configuration is driven by two distict types of XLM configuration files:\n",
        "\n",
        "1. **Default** (read-only): core-default.xml, hdfs-default.xml, mapred-default.xml, yarn-default.xml. These files should never be modified.\n",
        "2. **Site specific** configuration files: core-site.xml, hdfs-site.xml, mapred-site.xml, yarn-site.xml. These files are loaded from class path and their values are used to overwrite the corresponding values of the properties in the matching default configuration files.\n"
      ],
      "metadata": {
        "id": "szhRwlUOQ9D3"
      }
    },
    {
      "cell_type": "code",
      "source": [
        "#Exploring hadoop-3.3.5/etc/hadoop xml files\n",
        "!ls $HADOOP_HOME/etc/hadoop/*.xml"
      ],
      "metadata": {
        "id": "zaUWrl0lN203",
        "colab": {
          "base_uri": "https://localhost:8080/"
        },
        "outputId": "8fa424ef-dcf6-4911-8f34-922dcb202ca5"
      },
      "execution_count": null,
      "outputs": [
        {
          "output_type": "stream",
          "name": "stdout",
          "text": [
            "/usr/local/hadoop-3.3.5/etc/hadoop/capacity-scheduler.xml\n",
            "/usr/local/hadoop-3.3.5/etc/hadoop/core-site.xml\n",
            "/usr/local/hadoop-3.3.5/etc/hadoop/hadoop-policy.xml\n",
            "/usr/local/hadoop-3.3.5/etc/hadoop/hdfs-rbf-site.xml\n",
            "/usr/local/hadoop-3.3.5/etc/hadoop/hdfs-site.xml\n",
            "/usr/local/hadoop-3.3.5/etc/hadoop/httpfs-site.xml\n",
            "/usr/local/hadoop-3.3.5/etc/hadoop/kms-acls.xml\n",
            "/usr/local/hadoop-3.3.5/etc/hadoop/kms-site.xml\n",
            "/usr/local/hadoop-3.3.5/etc/hadoop/mapred-site.xml\n",
            "/usr/local/hadoop-3.3.5/etc/hadoop/yarn-site.xml\n"
          ]
        }
      ]
    },
    {
      "cell_type": "markdown",
      "source": [
        "Each component in Hadoop is configured using an xml file\n",
        "\n",
        "*   core-site.xml: common properties\n",
        "*   hdfs-site.xml: HDFS properties\n",
        "*   mapred-site.xml: MapReduce properties\n",
        "*   yarn-site.xml: YARN properties\n",
        "\n",
        "By configuring these xml files accordingly Hadoop can be run in one of the three modes."
      ],
      "metadata": {
        "id": "SMbIY4UQr-Cc"
      }
    },
    {
      "cell_type": "code",
      "source": [
        "#Content of core-site.xml file\n",
        "!cat $HADOOP_HOME/etc/hadoop/core-site.xml"
      ],
      "metadata": {
        "id": "3X2yMzJRTTbz",
        "colab": {
          "base_uri": "https://localhost:8080/"
        },
        "outputId": "d9b0ff1c-63bd-4165-ec8f-c53b720e3702"
      },
      "execution_count": null,
      "outputs": [
        {
          "output_type": "stream",
          "name": "stdout",
          "text": [
            "<?xml version=\"1.0\" encoding=\"UTF-8\"?>\n",
            "<?xml-stylesheet type=\"text/xsl\" href=\"configuration.xsl\"?>\n",
            "<!--\n",
            "  Licensed under the Apache License, Version 2.0 (the \"License\");\n",
            "  you may not use this file except in compliance with the License.\n",
            "  You may obtain a copy of the License at\n",
            "\n",
            "    http://www.apache.org/licenses/LICENSE-2.0\n",
            "\n",
            "  Unless required by applicable law or agreed to in writing, software\n",
            "  distributed under the License is distributed on an \"AS IS\" BASIS,\n",
            "  WITHOUT WARRANTIES OR CONDITIONS OF ANY KIND, either express or implied.\n",
            "  See the License for the specific language governing permissions and\n",
            "  limitations under the License. See accompanying LICENSE file.\n",
            "-->\n",
            "\n",
            "<!-- Put site-specific property overrides in this file. -->\n",
            "\n",
            "<configuration>\n",
            "</configuration>\n"
          ]
        }
      ]
    },
    {
      "cell_type": "markdown",
      "source": [
        "As we can see, no properties are set. They are empty by default. So there is nothing to overwrite and Hadoop runs with the default properties."
      ],
      "metadata": {
        "id": "LlK_OhXOTwLa"
      }
    },
    {
      "cell_type": "markdown",
      "source": [
        "## Running Hadoop in standalone mode"
      ],
      "metadata": {
        "id": "j7iQ3JIqP9Av"
      }
    },
    {
      "cell_type": "markdown",
      "source": [
        "With the default configuration properties Hadoop runs in a standalone mode (non distributed mode). That is, standalone mode (also knows as local mode) is the default mode for Hadoop.\n",
        "\n",
        "There are no deamons to run. Just a single java process\n",
        "\n",
        "Local filesystem and the local MapReduce job runner are used"
      ],
      "metadata": {
        "id": "xyNhcphwU326"
      }
    },
    {
      "cell_type": "markdown",
      "source": [
        "The command to run a Hadoop mapreduce program that is written in Java is:\n",
        "\n",
        "`$HADOOP_HOME/bin/hadoop jar <jar>`\n",
        "\n",
        "jar is Java archive tool that packages (and compresses) a set of files into a single archive."
      ],
      "metadata": {
        "id": "M5sq5u4YMWYy"
      }
    },
    {
      "cell_type": "markdown",
      "source": [
        "The default installation already has several MapReduce examples program that we can use."
      ],
      "metadata": {
        "id": "T0mlMcx90v3C"
      }
    },
    {
      "cell_type": "code",
      "source": [
        "#Exploring mapreduce tools\n",
        "!ls $HADOOP_HOME/share/hadoop/mapreduce/*.jar"
      ],
      "metadata": {
        "id": "KDU32MA_1A3j",
        "colab": {
          "base_uri": "https://localhost:8080/"
        },
        "outputId": "9a27dc76-184e-4b5d-84ca-d0ddb25b564b"
      },
      "execution_count": null,
      "outputs": [
        {
          "output_type": "stream",
          "name": "stdout",
          "text": [
            "/usr/local/hadoop-3.3.5/share/hadoop/mapreduce/hadoop-mapreduce-client-app-3.3.5.jar\n",
            "/usr/local/hadoop-3.3.5/share/hadoop/mapreduce/hadoop-mapreduce-client-common-3.3.5.jar\n",
            "/usr/local/hadoop-3.3.5/share/hadoop/mapreduce/hadoop-mapreduce-client-core-3.3.5.jar\n",
            "/usr/local/hadoop-3.3.5/share/hadoop/mapreduce/hadoop-mapreduce-client-hs-3.3.5.jar\n",
            "/usr/local/hadoop-3.3.5/share/hadoop/mapreduce/hadoop-mapreduce-client-hs-plugins-3.3.5.jar\n",
            "/usr/local/hadoop-3.3.5/share/hadoop/mapreduce/hadoop-mapreduce-client-jobclient-3.3.5.jar\n",
            "/usr/local/hadoop-3.3.5/share/hadoop/mapreduce/hadoop-mapreduce-client-jobclient-3.3.5-tests.jar\n",
            "/usr/local/hadoop-3.3.5/share/hadoop/mapreduce/hadoop-mapreduce-client-nativetask-3.3.5.jar\n",
            "/usr/local/hadoop-3.3.5/share/hadoop/mapreduce/hadoop-mapreduce-client-shuffle-3.3.5.jar\n",
            "/usr/local/hadoop-3.3.5/share/hadoop/mapreduce/hadoop-mapreduce-client-uploader-3.3.5.jar\n",
            "/usr/local/hadoop-3.3.5/share/hadoop/mapreduce/hadoop-mapreduce-examples-3.3.5.jar\n"
          ]
        }
      ]
    },
    {
      "cell_type": "markdown",
      "source": [
        "Mapreduce examples"
      ],
      "metadata": {
        "id": "E1sibHPwHcIS"
      }
    },
    {
      "cell_type": "code",
      "source": [
        "#Exploring the examples of programs available\n",
        "!$HADOOP_HOME/bin/hadoop jar $HADOOP_HOME/share/hadoop/mapreduce/hadoop-mapreduce-examples-3.3.5.jar"
      ],
      "metadata": {
        "colab": {
          "base_uri": "https://localhost:8080/"
        },
        "id": "TbNQV5Id1VEW",
        "outputId": "3ec1a1cb-f8af-4006-b710-d3763861c49b"
      },
      "execution_count": null,
      "outputs": [
        {
          "output_type": "stream",
          "name": "stdout",
          "text": [
            "An example program must be given as the first argument.\n",
            "Valid program names are:\n",
            "  aggregatewordcount: An Aggregate based map/reduce program that counts the words in the input files.\n",
            "  aggregatewordhist: An Aggregate based map/reduce program that computes the histogram of the words in the input files.\n",
            "  bbp: A map/reduce program that uses Bailey-Borwein-Plouffe to compute exact digits of Pi.\n",
            "  dbcount: An example job that count the pageview counts from a database.\n",
            "  distbbp: A map/reduce program that uses a BBP-type formula to compute exact bits of Pi.\n",
            "  grep: A map/reduce program that counts the matches of a regex in the input.\n",
            "  join: A job that effects a join over sorted, equally partitioned datasets\n",
            "  multifilewc: A job that counts words from several files.\n",
            "  pentomino: A map/reduce tile laying program to find solutions to pentomino problems.\n",
            "  pi: A map/reduce program that estimates Pi using a quasi-Monte Carlo method.\n",
            "  randomtextwriter: A map/reduce program that writes 10GB of random textual data per node.\n",
            "  randomwriter: A map/reduce program that writes 10GB of random data per node.\n",
            "  secondarysort: An example defining a secondary sort to the reduce.\n",
            "  sort: A map/reduce program that sorts the data written by the random writer.\n",
            "  sudoku: A sudoku solver.\n",
            "  teragen: Generate data for the terasort\n",
            "  terasort: Run the terasort\n",
            "  teravalidate: Checking results of terasort\n",
            "  wordcount: A map/reduce program that counts the words in the input files.\n",
            "  wordmean: A map/reduce program that counts the average length of the words in the input files.\n",
            "  wordmedian: A map/reduce program that counts the median length of the words in the input files.\n",
            "  wordstandarddeviation: A map/reduce program that counts the standard deviation of the length of the words in the input files.\n"
          ]
        }
      ]
    },
    {
      "cell_type": "markdown",
      "source": [
        "wordcount"
      ],
      "metadata": {
        "id": "ky8_JvARHoVH"
      }
    },
    {
      "cell_type": "markdown",
      "source": [
        "As description says, wordcount is a map/reduce program that counts the words in the input files."
      ],
      "metadata": {
        "id": "YOPq3tC91yRa"
      }
    },
    {
      "cell_type": "code",
      "source": [
        "#Usage of the wordcount MapReduce program \n",
        "!$HADOOP_HOME/bin/hadoop jar $HADOOP_HOME/share/hadoop/mapreduce/hadoop-mapreduce-examples-3.3.5.jar wordcount"
      ],
      "metadata": {
        "colab": {
          "base_uri": "https://localhost:8080/"
        },
        "id": "0FjXG_lX2UUB",
        "outputId": "723c8bfa-5609-43bf-e933-88910f686bbc"
      },
      "execution_count": null,
      "outputs": [
        {
          "output_type": "stream",
          "name": "stdout",
          "text": [
            "Usage: wordcount <in> [<in>...] <out>\n"
          ]
        }
      ]
    },
    {
      "cell_type": "markdown",
      "source": [
        "The parameters are an input directory where the text to be analized is allocated and an output directory where the program is going to allocate its output "
      ],
      "metadata": {
        "id": "XkqKpjQl24wx"
      }
    },
    {
      "cell_type": "code",
      "source": [
        "#Dowloading text example to use as input\n",
        "!wget -q https://www.mirrorservice.org/sites/ftp.ibiblio.org/pub/docs/books/gutenberg/1/0/101/101.txt"
      ],
      "metadata": {
        "id": "fOHl7Iz84eyt"
      },
      "execution_count": null,
      "outputs": []
    },
    {
      "cell_type": "code",
      "source": [
        "#Running MapReduce program wordcount\n",
        "#the output directory will be created automatically\n",
        "!$HADOOP_HOME/bin/hadoop jar $HADOOP_HOME/share/hadoop/mapreduce/hadoop-mapreduce-examples-3.3.5.jar wordcount /content/101.txt /content/output"
      ],
      "metadata": {
        "id": "tgY1T-c45Vzg",
        "colab": {
          "base_uri": "https://localhost:8080/"
        },
        "outputId": "51966440-7fd2-41b6-ea3d-0ca5824c280e"
      },
      "execution_count": null,
      "outputs": [
        {
          "output_type": "stream",
          "name": "stdout",
          "text": [
            "2023-05-05 01:10:20,643 INFO impl.MetricsConfig: Loaded properties from hadoop-metrics2.properties\n",
            "2023-05-05 01:10:20,775 INFO impl.MetricsSystemImpl: Scheduled Metric snapshot period at 10 second(s).\n",
            "2023-05-05 01:10:20,775 INFO impl.MetricsSystemImpl: JobTracker metrics system started\n",
            "2023-05-05 01:10:21,114 INFO input.FileInputFormat: Total input files to process : 1\n",
            "2023-05-05 01:10:21,156 INFO mapreduce.JobSubmitter: number of splits:1\n",
            "2023-05-05 01:10:21,353 INFO mapreduce.JobSubmitter: Submitting tokens for job: job_local1752096585_0001\n",
            "2023-05-05 01:10:21,354 INFO mapreduce.JobSubmitter: Executing with tokens: []\n",
            "2023-05-05 01:10:21,581 INFO mapreduce.Job: The url to track the job: http://localhost:8080/\n",
            "2023-05-05 01:10:21,582 INFO mapreduce.Job: Running job: job_local1752096585_0001\n",
            "2023-05-05 01:10:21,589 INFO mapred.LocalJobRunner: OutputCommitter set in config null\n",
            "2023-05-05 01:10:21,601 INFO output.PathOutputCommitterFactory: No output committer factory defined, defaulting to FileOutputCommitterFactory\n",
            "2023-05-05 01:10:21,603 INFO output.FileOutputCommitter: File Output Committer Algorithm version is 2\n",
            "2023-05-05 01:10:21,603 INFO output.FileOutputCommitter: FileOutputCommitter skip cleanup _temporary folders under output directory:false, ignore cleanup failures: false\n",
            "2023-05-05 01:10:21,604 INFO mapred.LocalJobRunner: OutputCommitter is org.apache.hadoop.mapreduce.lib.output.FileOutputCommitter\n",
            "2023-05-05 01:10:21,659 INFO mapred.LocalJobRunner: Waiting for map tasks\n",
            "2023-05-05 01:10:21,660 INFO mapred.LocalJobRunner: Starting task: attempt_local1752096585_0001_m_000000_0\n",
            "2023-05-05 01:10:21,712 INFO output.PathOutputCommitterFactory: No output committer factory defined, defaulting to FileOutputCommitterFactory\n",
            "2023-05-05 01:10:21,713 INFO output.FileOutputCommitter: File Output Committer Algorithm version is 2\n",
            "2023-05-05 01:10:21,713 INFO output.FileOutputCommitter: FileOutputCommitter skip cleanup _temporary folders under output directory:false, ignore cleanup failures: false\n",
            "2023-05-05 01:10:21,749 INFO mapred.Task:  Using ResourceCalculatorProcessTree : [ ]\n",
            "2023-05-05 01:10:21,757 INFO mapred.MapTask: Processing split: file:/content/101.txt:0+678064\n",
            "2023-05-05 01:10:21,859 INFO mapred.MapTask: (EQUATOR) 0 kvi 26214396(104857584)\n",
            "2023-05-05 01:10:21,859 INFO mapred.MapTask: mapreduce.task.io.sort.mb: 100\n",
            "2023-05-05 01:10:21,859 INFO mapred.MapTask: soft limit at 83886080\n",
            "2023-05-05 01:10:21,859 INFO mapred.MapTask: bufstart = 0; bufvoid = 104857600\n",
            "2023-05-05 01:10:21,859 INFO mapred.MapTask: kvstart = 26214396; length = 6553600\n",
            "2023-05-05 01:10:21,867 INFO mapred.MapTask: Map output collector class = org.apache.hadoop.mapred.MapTask$MapOutputBuffer\n",
            "2023-05-05 01:10:22,149 INFO mapred.LocalJobRunner: \n",
            "2023-05-05 01:10:22,150 INFO mapred.MapTask: Starting flush of map output\n",
            "2023-05-05 01:10:22,150 INFO mapred.MapTask: Spilling map output\n",
            "2023-05-05 01:10:22,150 INFO mapred.MapTask: bufstart = 0; bufend = 1078906; bufvoid = 104857600\n",
            "2023-05-05 01:10:22,150 INFO mapred.MapTask: kvstart = 26214396(104857584); kvend = 25792448(103169792); length = 421949/6553600\n",
            "2023-05-05 01:10:22,596 INFO mapreduce.Job: Job job_local1752096585_0001 running in uber mode : false\n",
            "2023-05-05 01:10:22,597 INFO mapreduce.Job:  map 0% reduce 0%\n",
            "2023-05-05 01:10:22,835 INFO mapred.MapTask: Finished spill 0\n",
            "2023-05-05 01:10:22,852 INFO mapred.Task: Task:attempt_local1752096585_0001_m_000000_0 is done. And is in the process of committing\n",
            "2023-05-05 01:10:22,854 INFO mapred.LocalJobRunner: map\n",
            "2023-05-05 01:10:22,854 INFO mapred.Task: Task 'attempt_local1752096585_0001_m_000000_0' done.\n",
            "2023-05-05 01:10:22,864 INFO mapred.Task: Final Counters for attempt_local1752096585_0001_m_000000_0: Counters: 18\n",
            "\tFile System Counters\n",
            "\t\tFILE: Number of bytes read=959545\n",
            "\t\tFILE: Number of bytes written=1237571\n",
            "\t\tFILE: Number of read operations=0\n",
            "\t\tFILE: Number of large read operations=0\n",
            "\t\tFILE: Number of write operations=0\n",
            "\tMap-Reduce Framework\n",
            "\t\tMap input records=13006\n",
            "\t\tMap output records=105488\n",
            "\t\tMap output bytes=1078906\n",
            "\t\tMap output materialized bytes=318005\n",
            "\t\tInput split bytes=86\n",
            "\t\tCombine input records=105488\n",
            "\t\tCombine output records=21438\n",
            "\t\tSpilled Records=21438\n",
            "\t\tFailed Shuffles=0\n",
            "\t\tMerged Map outputs=0\n",
            "\t\tGC time elapsed (ms)=19\n",
            "\t\tTotal committed heap usage (bytes)=258473984\n",
            "\tFile Input Format Counters \n",
            "\t\tBytes Read=678064\n",
            "2023-05-05 01:10:22,864 INFO mapred.LocalJobRunner: Finishing task: attempt_local1752096585_0001_m_000000_0\n",
            "2023-05-05 01:10:22,865 INFO mapred.LocalJobRunner: map task executor complete.\n",
            "2023-05-05 01:10:22,869 INFO mapred.LocalJobRunner: Waiting for reduce tasks\n",
            "2023-05-05 01:10:22,869 INFO mapred.LocalJobRunner: Starting task: attempt_local1752096585_0001_r_000000_0\n",
            "2023-05-05 01:10:22,879 INFO output.PathOutputCommitterFactory: No output committer factory defined, defaulting to FileOutputCommitterFactory\n",
            "2023-05-05 01:10:22,879 INFO output.FileOutputCommitter: File Output Committer Algorithm version is 2\n",
            "2023-05-05 01:10:22,879 INFO output.FileOutputCommitter: FileOutputCommitter skip cleanup _temporary folders under output directory:false, ignore cleanup failures: false\n",
            "2023-05-05 01:10:22,880 INFO mapred.Task:  Using ResourceCalculatorProcessTree : [ ]\n",
            "2023-05-05 01:10:22,885 INFO mapred.ReduceTask: Using ShuffleConsumerPlugin: org.apache.hadoop.mapreduce.task.reduce.Shuffle@7fc42216\n",
            "2023-05-05 01:10:22,887 WARN impl.MetricsSystemImpl: JobTracker metrics system already initialized!\n",
            "2023-05-05 01:10:22,917 INFO reduce.MergeManagerImpl: MergerManager: memoryLimit=2119434240, maxSingleShuffleLimit=529858560, mergeThreshold=1398826624, ioSortFactor=10, memToMemMergeOutputsThreshold=10\n",
            "2023-05-05 01:10:22,929 INFO reduce.EventFetcher: attempt_local1752096585_0001_r_000000_0 Thread started: EventFetcher for fetching Map Completion Events\n",
            "2023-05-05 01:10:22,972 INFO reduce.LocalFetcher: localfetcher#1 about to shuffle output of map attempt_local1752096585_0001_m_000000_0 decomp: 318001 len: 318005 to MEMORY\n",
            "2023-05-05 01:10:22,978 INFO reduce.InMemoryMapOutput: Read 318001 bytes from map-output for attempt_local1752096585_0001_m_000000_0\n",
            "2023-05-05 01:10:22,980 INFO reduce.MergeManagerImpl: closeInMemoryFile -> map-output of size: 318001, inMemoryMapOutputs.size() -> 1, commitMemory -> 0, usedMemory ->318001\n",
            "2023-05-05 01:10:22,982 INFO reduce.EventFetcher: EventFetcher is interrupted.. Returning\n",
            "2023-05-05 01:10:22,983 INFO mapred.LocalJobRunner: 1 / 1 copied.\n",
            "2023-05-05 01:10:22,983 INFO reduce.MergeManagerImpl: finalMerge called with 1 in-memory map-outputs and 0 on-disk map-outputs\n",
            "2023-05-05 01:10:22,994 INFO mapred.Merger: Merging 1 sorted segments\n",
            "2023-05-05 01:10:22,994 INFO mapred.Merger: Down to the last merge-pass, with 1 segments left of total size: 317994 bytes\n",
            "2023-05-05 01:10:23,025 INFO reduce.MergeManagerImpl: Merged 1 segments, 318001 bytes to disk to satisfy reduce memory limit\n",
            "2023-05-05 01:10:23,026 INFO reduce.MergeManagerImpl: Merging 1 files, 318005 bytes from disk\n",
            "2023-05-05 01:10:23,029 INFO reduce.MergeManagerImpl: Merging 0 segments, 0 bytes from memory into reduce\n",
            "2023-05-05 01:10:23,029 INFO mapred.Merger: Merging 1 sorted segments\n",
            "2023-05-05 01:10:23,031 INFO mapred.Merger: Down to the last merge-pass, with 1 segments left of total size: 317994 bytes\n",
            "2023-05-05 01:10:23,031 INFO mapred.LocalJobRunner: 1 / 1 copied.\n",
            "2023-05-05 01:10:23,036 INFO Configuration.deprecation: mapred.skip.on is deprecated. Instead, use mapreduce.job.skiprecords\n",
            "2023-05-05 01:10:23,197 INFO mapred.Task: Task:attempt_local1752096585_0001_r_000000_0 is done. And is in the process of committing\n",
            "2023-05-05 01:10:23,199 INFO mapred.LocalJobRunner: 1 / 1 copied.\n",
            "2023-05-05 01:10:23,199 INFO mapred.Task: Task attempt_local1752096585_0001_r_000000_0 is allowed to commit now\n",
            "2023-05-05 01:10:23,205 INFO output.FileOutputCommitter: Saved output of task 'attempt_local1752096585_0001_r_000000_0' to file:/content/output\n",
            "2023-05-05 01:10:23,206 INFO mapred.LocalJobRunner: reduce > reduce\n",
            "2023-05-05 01:10:23,206 INFO mapred.Task: Task 'attempt_local1752096585_0001_r_000000_0' done.\n",
            "2023-05-05 01:10:23,207 INFO mapred.Task: Final Counters for attempt_local1752096585_0001_r_000000_0: Counters: 24\n",
            "\tFile System Counters\n",
            "\t\tFILE: Number of bytes read=1595587\n",
            "\t\tFILE: Number of bytes written=1791048\n",
            "\t\tFILE: Number of read operations=0\n",
            "\t\tFILE: Number of large read operations=0\n",
            "\t\tFILE: Number of write operations=0\n",
            "\tMap-Reduce Framework\n",
            "\t\tCombine input records=0\n",
            "\t\tCombine output records=0\n",
            "\t\tReduce input groups=21438\n",
            "\t\tReduce shuffle bytes=318005\n",
            "\t\tReduce input records=21438\n",
            "\t\tReduce output records=21438\n",
            "\t\tSpilled Records=21438\n",
            "\t\tShuffled Maps =1\n",
            "\t\tFailed Shuffles=0\n",
            "\t\tMerged Map outputs=1\n",
            "\t\tGC time elapsed (ms)=0\n",
            "\t\tTotal committed heap usage (bytes)=258473984\n",
            "\tShuffle Errors\n",
            "\t\tBAD_ID=0\n",
            "\t\tCONNECTION=0\n",
            "\t\tIO_ERROR=0\n",
            "\t\tWRONG_LENGTH=0\n",
            "\t\tWRONG_MAP=0\n",
            "\t\tWRONG_REDUCE=0\n",
            "\tFile Output Format Counters \n",
            "\t\tBytes Written=235472\n",
            "2023-05-05 01:10:23,207 INFO mapred.LocalJobRunner: Finishing task: attempt_local1752096585_0001_r_000000_0\n",
            "2023-05-05 01:10:23,207 INFO mapred.LocalJobRunner: reduce task executor complete.\n",
            "2023-05-05 01:10:23,601 INFO mapreduce.Job:  map 100% reduce 100%\n",
            "2023-05-05 01:10:23,601 INFO mapreduce.Job: Job job_local1752096585_0001 completed successfully\n",
            "2023-05-05 01:10:23,621 INFO mapreduce.Job: Counters: 30\n",
            "\tFile System Counters\n",
            "\t\tFILE: Number of bytes read=2555132\n",
            "\t\tFILE: Number of bytes written=3028619\n",
            "\t\tFILE: Number of read operations=0\n",
            "\t\tFILE: Number of large read operations=0\n",
            "\t\tFILE: Number of write operations=0\n",
            "\tMap-Reduce Framework\n",
            "\t\tMap input records=13006\n",
            "\t\tMap output records=105488\n",
            "\t\tMap output bytes=1078906\n",
            "\t\tMap output materialized bytes=318005\n",
            "\t\tInput split bytes=86\n",
            "\t\tCombine input records=105488\n",
            "\t\tCombine output records=21438\n",
            "\t\tReduce input groups=21438\n",
            "\t\tReduce shuffle bytes=318005\n",
            "\t\tReduce input records=21438\n",
            "\t\tReduce output records=21438\n",
            "\t\tSpilled Records=42876\n",
            "\t\tShuffled Maps =1\n",
            "\t\tFailed Shuffles=0\n",
            "\t\tMerged Map outputs=1\n",
            "\t\tGC time elapsed (ms)=19\n",
            "\t\tTotal committed heap usage (bytes)=516947968\n",
            "\tShuffle Errors\n",
            "\t\tBAD_ID=0\n",
            "\t\tCONNECTION=0\n",
            "\t\tIO_ERROR=0\n",
            "\t\tWRONG_LENGTH=0\n",
            "\t\tWRONG_MAP=0\n",
            "\t\tWRONG_REDUCE=0\n",
            "\tFile Input Format Counters \n",
            "\t\tBytes Read=678064\n",
            "\tFile Output Format Counters \n",
            "\t\tBytes Written=235472\n"
          ]
        }
      ]
    },
    {
      "cell_type": "code",
      "source": [
        "#Exploring the created output directory\n",
        "#part-r-00000 contains the actual ouput\n",
        "!ls /content/output"
      ],
      "metadata": {
        "colab": {
          "base_uri": "https://localhost:8080/"
        },
        "id": "51IBObej6BA6",
        "outputId": "a4bdf52b-0645-4a8b-c566-d6aa0b401bac"
      },
      "execution_count": null,
      "outputs": [
        {
          "output_type": "stream",
          "name": "stdout",
          "text": [
            "part-r-00000  _SUCCESS\n"
          ]
        }
      ]
    },
    {
      "cell_type": "code",
      "source": [
        "#Printing out first 50 lines\n",
        "!head -50 /content/output/part-r-00000"
      ],
      "metadata": {
        "colab": {
          "base_uri": "https://localhost:8080/"
        },
        "id": "ViiYYpJcUnjd",
        "outputId": "ed4e18f4-788a-436c-cee1-46ce73ace05f"
      },
      "execution_count": null,
      "outputs": [
        {
          "output_type": "stream",
          "name": "stdout",
          "text": [
            "\"(d)\t1\n",
            "\"/H\"\t1\n",
            "\"0\"\t1\n",
            "\"02\"\t2\n",
            "\"1.\t1\n",
            "\"414\t3\n",
            "\"A\t2\n",
            "\"AT&T\t3\n",
            "\"AT&T's\t1\n",
            "\"Access\t1\n",
            "\"Acid\t3\n",
            "\"Ad-hocracy\"\t1\n",
            "\"Advanced\t1\n",
            "\"Agents\t1\n",
            "\"Al\t3\n",
            "\"All\t3\n",
            "\"American\t1\n",
            "\"An\t1\n",
            "\"And\t2\n",
            "\"Any\t1\n",
            "\"Are\t3\n",
            "\"Artificial\t1\n",
            "\"As\t1\n",
            "\"Assistant\t1\n",
            "\"Attctc\"\t2\n",
            "\"Auld\t1\n",
            "\"Autodesk,\"\t1\n",
            "\"BBS,\"\t2\n",
            "\"BIRTHPLACE\t1\n",
            "\"BRITS\t1\n",
            "\"Barry\t1\n",
            "\"Because\t1\n",
            "\"Before\t1\n",
            "\"Bell\t2\n",
            "\"Bell\"\t1\n",
            "\"BellSouth\t2\n",
            "\"Berkeley\t1\n",
            "\"Big\t1\n",
            "\"Biggest\t1\n",
            "\"Black\t3\n",
            "\"Blue\t1\n",
            "\"Bob\"\t1\n",
            "\"Bob,\t3\n",
            "\"Bob:\t1\n",
            "\"Bullet-N-Board.\"\t1\n",
            "\"Bureaucrat-ese\t1\n",
            "\"But\t4\n",
            "\"C-word.\"\t1\n",
            "\"CALIFORNIA\"\t1\n",
            "\"CC,\"\t1\n"
          ]
        }
      ]
    },
    {
      "cell_type": "markdown",
      "source": [
        "## Running Hadoop in Pseudo-distributed mode"
      ],
      "metadata": {
        "id": "5BUFo8gUbXER"
      }
    },
    {
      "cell_type": "markdown",
      "source": [
        "In Pseudo-distributed mode all the distributed components of Hadoop come into play. That is, all the Hadoop deamons that are responsible for distributed storage and distributed processing will run on the same machine.\n",
        "\n",
        "Master deamons:\n",
        "\n",
        "*   NameNode\n",
        "*   Resource Manager\n",
        "*   Standby NameNode\n",
        "\n",
        "Slave deamons:\n",
        "\n",
        "*   DataNode\n",
        "*   Node Manager\n"
      ],
      "metadata": {
        "id": "lEWV2YjJmR78"
      }
    },
    {
      "cell_type": "markdown",
      "source": [
        "Configuring XML files"
      ],
      "metadata": {
        "id": "h9KNyTmWppr3"
      }
    },
    {
      "cell_type": "markdown",
      "source": [
        "As mentioned, by setting the properties in the **site** xml configuration files, we overwrite the corresponding properties in the **default** xml configuration files and, this way, we tell Hadoop which machines are in the cluster and where and how we want to run the Hadoop daemons"
      ],
      "metadata": {
        "id": "YjYGTIZRM43v"
      }
    },
    {
      "cell_type": "markdown",
      "source": [
        "The specific content that these files need to have to make Hadoop run in Pseudo-distributed mode can be found in the documentation of the release on the official website. For Hadoop 3.3.5 the website is:\n",
        "\n",
        "https://hadoop.apache.org/docs/r3.3.5/hadoop-project-dist/hadoop-common/SingleCluster.html"
      ],
      "metadata": {
        "id": "rkzy6KSdTGw6"
      }
    },
    {
      "cell_type": "markdown",
      "source": [
        "Configuring core-site.xml"
      ],
      "metadata": {
        "id": "Karc-KZ0CLvg"
      }
    },
    {
      "cell_type": "code",
      "source": [
        "#Adding required property to core-site.xlm file\n",
        "!sed -i '/<configuration>/a\\\n",
        "  <property>\\n\\\n",
        "    <name>fs.defaultFS</name>\\n\\\n",
        "    <value>hdfs://localhost:9000</value>\\n\\\n",
        "  </property>' \\\n",
        "$HADOOP_HOME/etc/hadoop/core-site.xml"
      ],
      "metadata": {
        "id": "5aIR5y4hAZvI"
      },
      "execution_count": null,
      "outputs": []
    },
    {
      "cell_type": "code",
      "source": [
        "#Content of core-site.xml after the editing\n",
        "!cat $HADOOP_HOME/etc/hadoop/core-site.xml"
      ],
      "metadata": {
        "colab": {
          "base_uri": "https://localhost:8080/"
        },
        "id": "wnmp-mDKPJVs",
        "outputId": "15ff1655-5e5d-4817-a3bc-30dca4e863fa"
      },
      "execution_count": null,
      "outputs": [
        {
          "output_type": "stream",
          "name": "stdout",
          "text": [
            "<?xml version=\"1.0\" encoding=\"UTF-8\"?>\n",
            "<?xml-stylesheet type=\"text/xsl\" href=\"configuration.xsl\"?>\n",
            "<!--\n",
            "  Licensed under the Apache License, Version 2.0 (the \"License\");\n",
            "  you may not use this file except in compliance with the License.\n",
            "  You may obtain a copy of the License at\n",
            "\n",
            "    http://www.apache.org/licenses/LICENSE-2.0\n",
            "\n",
            "  Unless required by applicable law or agreed to in writing, software\n",
            "  distributed under the License is distributed on an \"AS IS\" BASIS,\n",
            "  WITHOUT WARRANTIES OR CONDITIONS OF ANY KIND, either express or implied.\n",
            "  See the License for the specific language governing permissions and\n",
            "  limitations under the License. See accompanying LICENSE file.\n",
            "-->\n",
            "\n",
            "<!-- Put site-specific property overrides in this file. -->\n",
            "\n",
            "<configuration>\n",
            "<property>\n",
            "     <name>fs.defaultFS</name>\n",
            "     <value>hdfs://localhost:9000</value>\n",
            "   </property>\n",
            "</configuration>\n"
          ]
        }
      ]
    },
    {
      "cell_type": "markdown",
      "source": [
        "Configuring hdfs-site.xml"
      ],
      "metadata": {
        "id": "mqG9Gg2sCP6X"
      }
    },
    {
      "cell_type": "code",
      "source": [
        "#Adding required property to hdfs-site.xml file\n",
        "#Since we are running Hadoop in only one machine, a replication factor greater than 1 does not make sense \n",
        "!sed -i '/<configuration>/a\\\n",
        "  <property>\\n\\\n",
        "    <name>dfs.replication</name>\\n\\\n",
        "    <value>1</value>\\n\\\n",
        "  </property>' \\\n",
        "$HADOOP_HOME/etc/hadoop/hdfs-site.xml"
      ],
      "metadata": {
        "id": "s4lKHtfvDFPF"
      },
      "execution_count": null,
      "outputs": []
    },
    {
      "cell_type": "code",
      "source": [
        "#Content of hdfs-site.xml after the editing\n",
        "!cat $HADOOP_HOME/etc/hadoop/hdfs-site.xml"
      ],
      "metadata": {
        "id": "jNRY6cvNC6Q3",
        "colab": {
          "base_uri": "https://localhost:8080/"
        },
        "outputId": "3a021f06-e287-4954-d451-192cbf2840f4"
      },
      "execution_count": null,
      "outputs": [
        {
          "output_type": "stream",
          "name": "stdout",
          "text": [
            "<?xml version=\"1.0\" encoding=\"UTF-8\"?>\n",
            "<?xml-stylesheet type=\"text/xsl\" href=\"configuration.xsl\"?>\n",
            "<!--\n",
            "  Licensed under the Apache License, Version 2.0 (the \"License\");\n",
            "  you may not use this file except in compliance with the License.\n",
            "  You may obtain a copy of the License at\n",
            "\n",
            "    http://www.apache.org/licenses/LICENSE-2.0\n",
            "\n",
            "  Unless required by applicable law or agreed to in writing, software\n",
            "  distributed under the License is distributed on an \"AS IS\" BASIS,\n",
            "  WITHOUT WARRANTIES OR CONDITIONS OF ANY KIND, either express or implied.\n",
            "  See the License for the specific language governing permissions and\n",
            "  limitations under the License. See accompanying LICENSE file.\n",
            "-->\n",
            "\n",
            "<!-- Put site-specific property overrides in this file. -->\n",
            "\n",
            "<configuration>\n",
            "<property>\n",
            "     <name>dfs.replication</name>\n",
            "     <value>1</value>\n",
            "   </property>\n",
            "\n",
            "</configuration>\n"
          ]
        }
      ]
    },
    {
      "cell_type": "markdown",
      "source": [
        "Configuring mapred-site.xml"
      ],
      "metadata": {
        "id": "nxKVm6HDD3Aj"
      }
    },
    {
      "cell_type": "code",
      "source": [
        "#Adding required properties to mapred-site.xml file\n",
        "!sed -i '/<configuration>/a\\\n",
        "  <property>\\n\\\n",
        "    <name>mapreduce.framework.name</name>\\n\\\n",
        "    <value>yarn</value>\\n\\\n",
        "  </property>\\n\\\n",
        "  <property>\\n\\\n",
        "    <name>mapreduce.application.classpath</name>\\n\\\n",
        "    <value>$HADOOP_MAPRED_HOME/share/hadoop/mapreduce/*:$HADOOP_MAPRED_HOME/share/hadoop/mapreduce/lib/*</value>\\n\\\n",
        "  </property>' \\\n",
        "$HADOOP_HOME/etc/hadoop/mapred-site.xml"
      ],
      "metadata": {
        "id": "sKBkrA5wF3_E"
      },
      "execution_count": null,
      "outputs": []
    },
    {
      "cell_type": "code",
      "source": [
        "#Content of mapred-site.xml after the editing\n",
        "!cat $HADOOP_HOME/etc/hadoop/mapred-site.xml"
      ],
      "metadata": {
        "id": "7YCJQSKOFwGj",
        "colab": {
          "base_uri": "https://localhost:8080/"
        },
        "outputId": "e04b0c76-4f8b-42bd-84d8-b3cf90a443ae"
      },
      "execution_count": null,
      "outputs": [
        {
          "output_type": "stream",
          "name": "stdout",
          "text": [
            "<?xml version=\"1.0\"?>\n",
            "<?xml-stylesheet type=\"text/xsl\" href=\"configuration.xsl\"?>\n",
            "<!--\n",
            "  Licensed under the Apache License, Version 2.0 (the \"License\");\n",
            "  you may not use this file except in compliance with the License.\n",
            "  You may obtain a copy of the License at\n",
            "\n",
            "    http://www.apache.org/licenses/LICENSE-2.0\n",
            "\n",
            "  Unless required by applicable law or agreed to in writing, software\n",
            "  distributed under the License is distributed on an \"AS IS\" BASIS,\n",
            "  WITHOUT WARRANTIES OR CONDITIONS OF ANY KIND, either express or implied.\n",
            "  See the License for the specific language governing permissions and\n",
            "  limitations under the License. See accompanying LICENSE file.\n",
            "-->\n",
            "\n",
            "<!-- Put site-specific property overrides in this file. -->\n",
            "\n",
            "<configuration>\n",
            "<property>\n",
            "     <name>mapreduce.framework.name</name>\n",
            "     <value>yarn</value>\n",
            "   </property>\n",
            "   <property>\n",
            "     <name>mapreduce.application.classpath</name>\n",
            "     <value>$HADOOP_MAPRED_HOME/share/hadoop/mapreduce/*:$HADOOP_MAPRED_HOME/share/hadoop/mapreduce/lib/*</value>\n",
            "   </property>\n",
            "\n",
            "</configuration>\n"
          ]
        }
      ]
    },
    {
      "cell_type": "markdown",
      "source": [
        "Configuring yarn-site.xml"
      ],
      "metadata": {
        "id": "cCoXAPGLHj8b"
      }
    },
    {
      "cell_type": "code",
      "source": [
        "#Adding required properties to yarn-site.xml file\n",
        "!sed -i '/<configuration>/a\\\n",
        "  <property>\\n\\\n",
        "    <description>The hostname of the RM.</description>\\n\\\n",
        "    <name>yarn.resourcemanager.hostname</name>\\n\\\n",
        "    <value>localhost</value>\\n\\\n",
        "  </property>\\n\\\n",
        "  <property>\\n\\\n",
        "    <name>yarn.nodemanager.aux-services</name>\\n\\\n",
        "    <value>mapreduce_shuffle</value>\\n\\\n",
        "  </property>\\n\\\n",
        "  <property>\\n\\\n",
        "    <name>yarn.nodemanager.env-whitelist</name>\\n\\\n",
        "    <value>JAVA_HOME,HADOOP_COMMON_HOME,HADOOP_HDFS_HOME,HADOOP_CONF_DIR,CLASSPATH_PREPEND_DISTCACHE,HADOOP_YARN_HOME,HADOOP_HOME,PATH,LANG,TZ,HADOOP_MAPRED_HOME</value>\\n\\\n",
        "  </property>' \\\n",
        "$HADOOP_HOME/etc/hadoop/yarn-site.xml"
      ],
      "metadata": {
        "id": "-76CUdTLIwCa"
      },
      "execution_count": null,
      "outputs": []
    },
    {
      "cell_type": "code",
      "source": [
        "#Content of yarn-site.xml after the editing\n",
        "!cat $HADOOP_HOME/etc/hadoop/yarn-site.xml"
      ],
      "metadata": {
        "id": "qm0PsXooIj_h",
        "colab": {
          "base_uri": "https://localhost:8080/"
        },
        "outputId": "e441bb09-b9b4-42c0-8058-36ca7197ad98"
      },
      "execution_count": null,
      "outputs": [
        {
          "output_type": "stream",
          "name": "stdout",
          "text": [
            "<?xml version=\"1.0\"?>\n",
            "<!--\n",
            "  Licensed under the Apache License, Version 2.0 (the \"License\");\n",
            "  you may not use this file except in compliance with the License.\n",
            "  You may obtain a copy of the License at\n",
            "\n",
            "    http://www.apache.org/licenses/LICENSE-2.0\n",
            "\n",
            "  Unless required by applicable law or agreed to in writing, software\n",
            "  distributed under the License is distributed on an \"AS IS\" BASIS,\n",
            "  WITHOUT WARRANTIES OR CONDITIONS OF ANY KIND, either express or implied.\n",
            "  See the License for the specific language governing permissions and\n",
            "  limitations under the License. See accompanying LICENSE file.\n",
            "-->\n",
            "<configuration>\n",
            "<property>\n",
            "     <description>The hostname of the RM.</description>\n",
            "     <name>yarn.resourcemanager.hostname</name>\n",
            "     <value>localhost</value>\n",
            "   </property>\n",
            "   <property>\n",
            "     <name>yarn.nodemanager.aux-services</name>\n",
            "     <value>mapreduce_shuffle</value>\n",
            "   </property>\n",
            "   <property>\n",
            "     <name>yarn.nodemanager.env-whitelist</name>\n",
            "     <value>JAVA_HOME,HADOOP_COMMON_HOME,HADOOP_HDFS_HOME,HADOOP_CONF_DIR,CLASSPATH_PREPEND_DISTCACHE,HADOOP_YARN_HOME,HADOOP_HOME,PATH,LANG,TZ,HADOOP_MAPRED_HOME</value>\n",
            "   </property>\n",
            "\n",
            "<!-- Site specific YARN configuration properties -->\n",
            "\n",
            "</configuration>\n"
          ]
        }
      ]
    },
    {
      "cell_type": "markdown",
      "source": [
        "Formatting the HDFS Filesystem"
      ],
      "metadata": {
        "id": "x5GRijGvFuQe"
      }
    },
    {
      "cell_type": "markdown",
      "source": [
        "Before HDFS can be used for the first time the file system must be formatted. The formatting process creates an empty file system by creating the storage directories and the initial versions of the NameNodes"
      ],
      "metadata": {
        "id": "QRBUEp4yKXEe"
      }
    },
    {
      "cell_type": "code",
      "source": [
        "!$HADOOP_HOME/bin/hdfs namenode -format"
      ],
      "metadata": {
        "id": "EyB07ajYOBna",
        "colab": {
          "base_uri": "https://localhost:8080/"
        },
        "outputId": "971deafa-6c44-4c1c-ba1d-36efc6fa6473"
      },
      "execution_count": null,
      "outputs": [
        {
          "output_type": "stream",
          "name": "stdout",
          "text": [
            "WARNING: /usr/local/hadoop-3.3.5/logs does not exist. Creating.\n",
            "2023-04-25 13:19:47,375 INFO namenode.NameNode: STARTUP_MSG: \n",
            "/************************************************************\n",
            "STARTUP_MSG: Starting NameNode\n",
            "STARTUP_MSG:   host = f3a85488ec73/172.28.0.12\n",
            "STARTUP_MSG:   args = [-format]\n",
            "STARTUP_MSG:   version = 3.3.5\n",
            "STARTUP_MSG:   classpath = /usr/local/hadoop-3.3.5/etc/hadoop:/usr/local/hadoop-3.3.5/share/hadoop/common/lib/jetty-http-9.4.48.v20220622.jar:/usr/local/hadoop-3.3.5/share/hadoop/common/lib/kerb-crypto-1.0.1.jar:/usr/local/hadoop-3.3.5/share/hadoop/common/lib/commons-beanutils-1.9.4.jar:/usr/local/hadoop-3.3.5/share/hadoop/common/lib/jakarta.activation-api-1.2.1.jar:/usr/local/hadoop-3.3.5/share/hadoop/common/lib/netty-handler-proxy-4.1.77.Final.jar:/usr/local/hadoop-3.3.5/share/hadoop/common/lib/netty-codec-socks-4.1.77.Final.jar:/usr/local/hadoop-3.3.5/share/hadoop/common/lib/netty-codec-mqtt-4.1.77.Final.jar:/usr/local/hadoop-3.3.5/share/hadoop/common/lib/jersey-json-1.20.jar:/usr/local/hadoop-3.3.5/share/hadoop/common/lib/jackson-annotations-2.12.7.jar:/usr/local/hadoop-3.3.5/share/hadoop/common/lib/jackson-core-asl-1.9.13.jar:/usr/local/hadoop-3.3.5/share/hadoop/common/lib/commons-io-2.8.0.jar:/usr/local/hadoop-3.3.5/share/hadoop/common/lib/checker-qual-2.5.2.jar:/usr/local/hadoop-3.3.5/share/hadoop/common/lib/slf4j-reload4j-1.7.36.jar:/usr/local/hadoop-3.3.5/share/hadoop/common/lib/jsr305-3.0.2.jar:/usr/local/hadoop-3.3.5/share/hadoop/common/lib/jettison-1.5.3.jar:/usr/local/hadoop-3.3.5/share/hadoop/common/lib/jetty-util-ajax-9.4.48.v20220622.jar:/usr/local/hadoop-3.3.5/share/hadoop/common/lib/jackson-databind-2.12.7.1.jar:/usr/local/hadoop-3.3.5/share/hadoop/common/lib/jersey-server-1.19.4.jar:/usr/local/hadoop-3.3.5/share/hadoop/common/lib/dnsjava-2.1.7.jar:/usr/local/hadoop-3.3.5/share/hadoop/common/lib/curator-client-4.2.0.jar:/usr/local/hadoop-3.3.5/share/hadoop/common/lib/hadoop-auth-3.3.5.jar:/usr/local/hadoop-3.3.5/share/hadoop/common/lib/netty-transport-rxtx-4.1.77.Final.jar:/usr/local/hadoop-3.3.5/share/hadoop/common/lib/hadoop-annotations-3.3.5.jar:/usr/local/hadoop-3.3.5/share/hadoop/common/lib/jetty-servlet-9.4.48.v20220622.jar:/usr/local/hadoop-3.3.5/share/hadoop/common/lib/netty-common-4.1.77.Final.jar:/usr/local/hadoop-3.3.5/share/hadoop/common/lib/commons-text-1.10.0.jar:/usr/local/hadoop-3.3.5/share/hadoop/common/lib/jsp-api-2.1.jar:/usr/local/hadoop-3.3.5/share/hadoop/common/lib/hadoop-shaded-guava-1.1.1.jar:/usr/local/hadoop-3.3.5/share/hadoop/common/lib/kerb-server-1.0.1.jar:/usr/local/hadoop-3.3.5/share/hadoop/common/lib/httpcore-4.4.13.jar:/usr/local/hadoop-3.3.5/share/hadoop/common/lib/netty-codec-dns-4.1.77.Final.jar:/usr/local/hadoop-3.3.5/share/hadoop/common/lib/netty-codec-stomp-4.1.77.Final.jar:/usr/local/hadoop-3.3.5/share/hadoop/common/lib/jaxb-impl-2.2.3-1.jar:/usr/local/hadoop-3.3.5/share/hadoop/common/lib/audience-annotations-0.5.0.jar:/usr/local/hadoop-3.3.5/share/hadoop/common/lib/slf4j-api-1.7.36.jar:/usr/local/hadoop-3.3.5/share/hadoop/common/lib/jetty-util-9.4.48.v20220622.jar:/usr/local/hadoop-3.3.5/share/hadoop/common/lib/avro-1.7.7.jar:/usr/local/hadoop-3.3.5/share/hadoop/common/lib/nimbus-jose-jwt-9.8.1.jar:/usr/local/hadoop-3.3.5/share/hadoop/common/lib/netty-all-4.1.77.Final.jar:/usr/local/hadoop-3.3.5/share/hadoop/common/lib/netty-transport-4.1.77.Final.jar:/usr/local/hadoop-3.3.5/share/hadoop/common/lib/gson-2.9.0.jar:/usr/local/hadoop-3.3.5/share/hadoop/common/lib/woodstox-core-5.4.0.jar:/usr/local/hadoop-3.3.5/share/hadoop/common/lib/kerby-util-1.0.1.jar:/usr/local/hadoop-3.3.5/share/hadoop/common/lib/kerb-simplekdc-1.0.1.jar:/usr/local/hadoop-3.3.5/share/hadoop/common/lib/netty-codec-memcache-4.1.77.Final.jar:/usr/local/hadoop-3.3.5/share/hadoop/common/lib/commons-logging-1.1.3.jar:/usr/local/hadoop-3.3.5/share/hadoop/common/lib/j2objc-annotations-1.1.jar:/usr/local/hadoop-3.3.5/share/hadoop/common/lib/netty-transport-native-epoll-4.1.77.Final-linux-x86_64.jar:/usr/local/hadoop-3.3.5/share/hadoop/common/lib/json-smart-2.4.7.jar:/usr/local/hadoop-3.3.5/share/hadoop/common/lib/accessors-smart-2.4.7.jar:/usr/local/hadoop-3.3.5/share/hadoop/common/lib/kerb-identity-1.0.1.jar:/usr/local/hadoop-3.3.5/share/hadoop/common/lib/hadoop-shaded-protobuf_3_7-1.1.1.jar:/usr/local/hadoop-3.3.5/share/hadoop/common/lib/kerby-config-1.0.1.jar:/usr/local/hadoop-3.3.5/share/hadoop/common/lib/failureaccess-1.0.jar:/usr/local/hadoop-3.3.5/share/hadoop/common/lib/jersey-core-1.19.4.jar:/usr/local/hadoop-3.3.5/share/hadoop/common/lib/netty-codec-4.1.77.Final.jar:/usr/local/hadoop-3.3.5/share/hadoop/common/lib/kerb-admin-1.0.1.jar:/usr/local/hadoop-3.3.5/share/hadoop/common/lib/netty-transport-native-kqueue-4.1.77.Final-osx-x86_64.jar:/usr/local/hadoop-3.3.5/share/hadoop/common/lib/asm-5.0.4.jar:/usr/local/hadoop-3.3.5/share/hadoop/common/lib/jackson-core-2.12.7.jar:/usr/local/hadoop-3.3.5/share/hadoop/common/lib/jersey-servlet-1.19.4.jar:/usr/local/hadoop-3.3.5/share/hadoop/common/lib/snappy-java-1.1.8.2.jar:/usr/local/hadoop-3.3.5/share/hadoop/common/lib/netty-resolver-4.1.77.Final.jar:/usr/local/hadoop-3.3.5/share/hadoop/common/lib/commons-lang3-3.12.0.jar:/usr/local/hadoop-3.3.5/share/hadoop/common/lib/jetty-webapp-9.4.48.v20220622.jar:/usr/local/hadoop-3.3.5/share/hadoop/common/lib/commons-net-3.9.0.jar:/usr/local/hadoop-3.3.5/share/hadoop/common/lib/jetty-server-9.4.48.v20220622.jar:/usr/local/hadoop-3.3.5/share/hadoop/common/lib/protobuf-java-2.5.0.jar:/usr/local/hadoop-3.3.5/share/hadoop/common/lib/jetty-xml-9.4.48.v20220622.jar:/usr/local/hadoop-3.3.5/share/hadoop/common/lib/netty-resolver-dns-classes-macos-4.1.77.Final.jar:/usr/local/hadoop-3.3.5/share/hadoop/common/lib/netty-codec-smtp-4.1.77.Final.jar:/usr/local/hadoop-3.3.5/share/hadoop/common/lib/commons-compress-1.21.jar:/usr/local/hadoop-3.3.5/share/hadoop/common/lib/netty-handler-4.1.77.Final.jar:/usr/local/hadoop-3.3.5/share/hadoop/common/lib/netty-codec-http-4.1.77.Final.jar:/usr/local/hadoop-3.3.5/share/hadoop/common/lib/metrics-core-3.2.4.jar:/usr/local/hadoop-3.3.5/share/hadoop/common/lib/curator-framework-4.2.0.jar:/usr/local/hadoop-3.3.5/share/hadoop/common/lib/reload4j-1.2.22.jar:/usr/local/hadoop-3.3.5/share/hadoop/common/lib/jcip-annotations-1.0-1.jar:/usr/local/hadoop-3.3.5/share/hadoop/common/lib/kerby-pkix-1.0.1.jar:/usr/local/hadoop-3.3.5/share/hadoop/common/lib/zookeeper-jute-3.5.6.jar:/usr/local/hadoop-3.3.5/share/hadoop/common/lib/javax.servlet-api-3.1.0.jar:/usr/local/hadoop-3.3.5/share/hadoop/common/lib/kerb-common-1.0.1.jar:/usr/local/hadoop-3.3.5/share/hadoop/common/lib/jackson-mapper-asl-1.9.13.jar:/usr/local/hadoop-3.3.5/share/hadoop/common/lib/netty-transport-native-unix-common-4.1.77.Final.jar:/usr/local/hadoop-3.3.5/share/hadoop/common/lib/netty-codec-http2-4.1.77.Final.jar:/usr/local/hadoop-3.3.5/share/hadoop/common/lib/kerb-util-1.0.1.jar:/usr/local/hadoop-3.3.5/share/hadoop/common/lib/netty-transport-classes-epoll-4.1.77.Final.jar:/usr/local/hadoop-3.3.5/share/hadoop/common/lib/netty-transport-udt-4.1.77.Final.jar:/usr/local/hadoop-3.3.5/share/hadoop/common/lib/netty-codec-haproxy-4.1.77.Final.jar:/usr/local/hadoop-3.3.5/share/hadoop/common/lib/netty-transport-classes-kqueue-4.1.77.Final.jar:/usr/local/hadoop-3.3.5/share/hadoop/common/lib/animal-sniffer-annotations-1.17.jar:/usr/local/hadoop-3.3.5/share/hadoop/common/lib/guava-27.0-jre.jar:/usr/local/hadoop-3.3.5/share/hadoop/common/lib/kerby-xdr-1.0.1.jar:/usr/local/hadoop-3.3.5/share/hadoop/common/lib/netty-resolver-dns-native-macos-4.1.77.Final-osx-aarch_64.jar:/usr/local/hadoop-3.3.5/share/hadoop/common/lib/netty-transport-sctp-4.1.77.Final.jar:/usr/local/hadoop-3.3.5/share/hadoop/common/lib/netty-transport-native-kqueue-4.1.77.Final-osx-aarch_64.jar:/usr/local/hadoop-3.3.5/share/hadoop/common/lib/re2j-1.1.jar:/usr/local/hadoop-3.3.5/share/hadoop/common/lib/kerby-asn1-1.0.1.jar:/usr/local/hadoop-3.3.5/share/hadoop/common/lib/commons-daemon-1.0.13.jar:/usr/local/hadoop-3.3.5/share/hadoop/common/lib/jsr311-api-1.1.1.jar:/usr/local/hadoop-3.3.5/share/hadoop/common/lib/jaxb-api-2.2.11.jar:/usr/local/hadoop-3.3.5/share/hadoop/common/lib/commons-math3-3.1.1.jar:/usr/local/hadoop-3.3.5/share/hadoop/common/lib/commons-cli-1.2.jar:/usr/local/hadoop-3.3.5/share/hadoop/common/lib/commons-configuration2-2.8.0.jar:/usr/local/hadoop-3.3.5/share/hadoop/common/lib/paranamer-2.3.jar:/usr/local/hadoop-3.3.5/share/hadoop/common/lib/jul-to-slf4j-1.7.36.jar:/usr/local/hadoop-3.3.5/share/hadoop/common/lib/jsch-0.1.55.jar:/usr/local/hadoop-3.3.5/share/hadoop/common/lib/kerb-client-1.0.1.jar:/usr/local/hadoop-3.3.5/share/hadoop/common/lib/netty-codec-redis-4.1.77.Final.jar:/usr/local/hadoop-3.3.5/share/hadoop/common/lib/token-provider-1.0.1.jar:/usr/local/hadoop-3.3.5/share/hadoop/common/lib/jetty-io-9.4.48.v20220622.jar:/usr/local/hadoop-3.3.5/share/hadoop/common/lib/stax2-api-4.2.1.jar:/usr/local/hadoop-3.3.5/share/hadoop/common/lib/zookeeper-3.5.6.jar:/usr/local/hadoop-3.3.5/share/hadoop/common/lib/netty-resolver-dns-native-macos-4.1.77.Final-osx-x86_64.jar:/usr/local/hadoop-3.3.5/share/hadoop/common/lib/netty-resolver-dns-4.1.77.Final.jar:/usr/local/hadoop-3.3.5/share/hadoop/common/lib/listenablefuture-9999.0-empty-to-avoid-conflict-with-guava.jar:/usr/local/hadoop-3.3.5/share/hadoop/common/lib/netty-codec-xml-4.1.77.Final.jar:/usr/local/hadoop-3.3.5/share/hadoop/common/lib/httpclient-4.5.13.jar:/usr/local/hadoop-3.3.5/share/hadoop/common/lib/jetty-security-9.4.48.v20220622.jar:/usr/local/hadoop-3.3.5/share/hadoop/common/lib/commons-codec-1.15.jar:/usr/local/hadoop-3.3.5/share/hadoop/common/lib/netty-transport-native-epoll-4.1.77.Final-linux-aarch_64.jar:/usr/local/hadoop-3.3.5/share/hadoop/common/lib/commons-collections-3.2.2.jar:/usr/local/hadoop-3.3.5/share/hadoop/common/lib/kerb-core-1.0.1.jar:/usr/local/hadoop-3.3.5/share/hadoop/common/lib/curator-recipes-4.2.0.jar:/usr/local/hadoop-3.3.5/share/hadoop/common/lib/netty-buffer-4.1.77.Final.jar:/usr/local/hadoop-3.3.5/share/hadoop/common/hadoop-registry-3.3.5.jar:/usr/local/hadoop-3.3.5/share/hadoop/common/hadoop-kms-3.3.5.jar:/usr/local/hadoop-3.3.5/share/hadoop/common/hadoop-nfs-3.3.5.jar:/usr/local/hadoop-3.3.5/share/hadoop/common/hadoop-common-3.3.5.jar:/usr/local/hadoop-3.3.5/share/hadoop/common/hadoop-common-3.3.5-tests.jar:/usr/local/hadoop-3.3.5/share/hadoop/hdfs:/usr/local/hadoop-3.3.5/share/hadoop/hdfs/lib/jetty-http-9.4.48.v20220622.jar:/usr/local/hadoop-3.3.5/share/hadoop/hdfs/lib/kerb-crypto-1.0.1.jar:/usr/local/hadoop-3.3.5/share/hadoop/hdfs/lib/commons-beanutils-1.9.4.jar:/usr/local/hadoop-3.3.5/share/hadoop/hdfs/lib/jakarta.activation-api-1.2.1.jar:/usr/local/hadoop-3.3.5/share/hadoop/hdfs/lib/netty-handler-proxy-4.1.77.Final.jar:/usr/local/hadoop-3.3.5/share/hadoop/hdfs/lib/netty-codec-socks-4.1.77.Final.jar:/usr/local/hadoop-3.3.5/share/hadoop/hdfs/lib/netty-codec-mqtt-4.1.77.Final.jar:/usr/local/hadoop-3.3.5/share/hadoop/hdfs/lib/jersey-json-1.20.jar:/usr/local/hadoop-3.3.5/share/hadoop/hdfs/lib/jackson-annotations-2.12.7.jar:/usr/local/hadoop-3.3.5/share/hadoop/hdfs/lib/jackson-core-asl-1.9.13.jar:/usr/local/hadoop-3.3.5/share/hadoop/hdfs/lib/commons-io-2.8.0.jar:/usr/local/hadoop-3.3.5/share/hadoop/hdfs/lib/checker-qual-2.5.2.jar:/usr/local/hadoop-3.3.5/share/hadoop/hdfs/lib/kotlin-stdlib-1.4.10.jar:/usr/local/hadoop-3.3.5/share/hadoop/hdfs/lib/jsr305-3.0.2.jar:/usr/local/hadoop-3.3.5/share/hadoop/hdfs/lib/jettison-1.5.3.jar:/usr/local/hadoop-3.3.5/share/hadoop/hdfs/lib/jetty-util-ajax-9.4.48.v20220622.jar:/usr/local/hadoop-3.3.5/share/hadoop/hdfs/lib/jackson-databind-2.12.7.1.jar:/usr/local/hadoop-3.3.5/share/hadoop/hdfs/lib/jersey-server-1.19.4.jar:/usr/local/hadoop-3.3.5/share/hadoop/hdfs/lib/dnsjava-2.1.7.jar:/usr/local/hadoop-3.3.5/share/hadoop/hdfs/lib/curator-client-4.2.0.jar:/usr/local/hadoop-3.3.5/share/hadoop/hdfs/lib/hadoop-auth-3.3.5.jar:/usr/local/hadoop-3.3.5/share/hadoop/hdfs/lib/netty-transport-rxtx-4.1.77.Final.jar:/usr/local/hadoop-3.3.5/share/hadoop/hdfs/lib/hadoop-annotations-3.3.5.jar:/usr/local/hadoop-3.3.5/share/hadoop/hdfs/lib/netty-3.10.6.Final.jar:/usr/local/hadoop-3.3.5/share/hadoop/hdfs/lib/jetty-servlet-9.4.48.v20220622.jar:/usr/local/hadoop-3.3.5/share/hadoop/hdfs/lib/netty-common-4.1.77.Final.jar:/usr/local/hadoop-3.3.5/share/hadoop/hdfs/lib/commons-text-1.10.0.jar:/usr/local/hadoop-3.3.5/share/hadoop/hdfs/lib/hadoop-shaded-guava-1.1.1.jar:/usr/local/hadoop-3.3.5/share/hadoop/hdfs/lib/okio-2.8.0.jar:/usr/local/hadoop-3.3.5/share/hadoop/hdfs/lib/kerb-server-1.0.1.jar:/usr/local/hadoop-3.3.5/share/hadoop/hdfs/lib/httpcore-4.4.13.jar:/usr/local/hadoop-3.3.5/share/hadoop/hdfs/lib/netty-codec-dns-4.1.77.Final.jar:/usr/local/hadoop-3.3.5/share/hadoop/hdfs/lib/netty-codec-stomp-4.1.77.Final.jar:/usr/local/hadoop-3.3.5/share/hadoop/hdfs/lib/jaxb-impl-2.2.3-1.jar:/usr/local/hadoop-3.3.5/share/hadoop/hdfs/lib/audience-annotations-0.5.0.jar:/usr/local/hadoop-3.3.5/share/hadoop/hdfs/lib/jetty-util-9.4.48.v20220622.jar:/usr/local/hadoop-3.3.5/share/hadoop/hdfs/lib/avro-1.7.7.jar:/usr/local/hadoop-3.3.5/share/hadoop/hdfs/lib/nimbus-jose-jwt-9.8.1.jar:/usr/local/hadoop-3.3.5/share/hadoop/hdfs/lib/netty-all-4.1.77.Final.jar:/usr/local/hadoop-3.3.5/share/hadoop/hdfs/lib/netty-transport-4.1.77.Final.jar:/usr/local/hadoop-3.3.5/share/hadoop/hdfs/lib/gson-2.9.0.jar:/usr/local/hadoop-3.3.5/share/hadoop/hdfs/lib/woodstox-core-5.4.0.jar:/usr/local/hadoop-3.3.5/share/hadoop/hdfs/lib/kerby-util-1.0.1.jar:/usr/local/hadoop-3.3.5/share/hadoop/hdfs/lib/leveldbjni-all-1.8.jar:/usr/local/hadoop-3.3.5/share/hadoop/hdfs/lib/kerb-simplekdc-1.0.1.jar:/usr/local/hadoop-3.3.5/share/hadoop/hdfs/lib/kotlin-stdlib-common-1.4.10.jar:/usr/local/hadoop-3.3.5/share/hadoop/hdfs/lib/netty-codec-memcache-4.1.77.Final.jar:/usr/local/hadoop-3.3.5/share/hadoop/hdfs/lib/commons-logging-1.1.3.jar:/usr/local/hadoop-3.3.5/share/hadoop/hdfs/lib/j2objc-annotations-1.1.jar:/usr/local/hadoop-3.3.5/share/hadoop/hdfs/lib/netty-transport-native-epoll-4.1.77.Final-linux-x86_64.jar:/usr/local/hadoop-3.3.5/share/hadoop/hdfs/lib/json-smart-2.4.7.jar:/usr/local/hadoop-3.3.5/share/hadoop/hdfs/lib/accessors-smart-2.4.7.jar:/usr/local/hadoop-3.3.5/share/hadoop/hdfs/lib/kerb-identity-1.0.1.jar:/usr/local/hadoop-3.3.5/share/hadoop/hdfs/lib/hadoop-shaded-protobuf_3_7-1.1.1.jar:/usr/local/hadoop-3.3.5/share/hadoop/hdfs/lib/kerby-config-1.0.1.jar:/usr/local/hadoop-3.3.5/share/hadoop/hdfs/lib/failureaccess-1.0.jar:/usr/local/hadoop-3.3.5/share/hadoop/hdfs/lib/jersey-core-1.19.4.jar:/usr/local/hadoop-3.3.5/share/hadoop/hdfs/lib/netty-codec-4.1.77.Final.jar:/usr/local/hadoop-3.3.5/share/hadoop/hdfs/lib/kerb-admin-1.0.1.jar:/usr/local/hadoop-3.3.5/share/hadoop/hdfs/lib/netty-transport-native-kqueue-4.1.77.Final-osx-x86_64.jar:/usr/local/hadoop-3.3.5/share/hadoop/hdfs/lib/asm-5.0.4.jar:/usr/local/hadoop-3.3.5/share/hadoop/hdfs/lib/jackson-core-2.12.7.jar:/usr/local/hadoop-3.3.5/share/hadoop/hdfs/lib/jersey-servlet-1.19.4.jar:/usr/local/hadoop-3.3.5/share/hadoop/hdfs/lib/snappy-java-1.1.8.2.jar:/usr/local/hadoop-3.3.5/share/hadoop/hdfs/lib/netty-resolver-4.1.77.Final.jar:/usr/local/hadoop-3.3.5/share/hadoop/hdfs/lib/okhttp-4.9.3.jar:/usr/local/hadoop-3.3.5/share/hadoop/hdfs/lib/commons-lang3-3.12.0.jar:/usr/local/hadoop-3.3.5/share/hadoop/hdfs/lib/jetty-webapp-9.4.48.v20220622.jar:/usr/local/hadoop-3.3.5/share/hadoop/hdfs/lib/commons-net-3.9.0.jar:/usr/local/hadoop-3.3.5/share/hadoop/hdfs/lib/jetty-server-9.4.48.v20220622.jar:/usr/local/hadoop-3.3.5/share/hadoop/hdfs/lib/protobuf-java-2.5.0.jar:/usr/local/hadoop-3.3.5/share/hadoop/hdfs/lib/jetty-xml-9.4.48.v20220622.jar:/usr/local/hadoop-3.3.5/share/hadoop/hdfs/lib/netty-resolver-dns-classes-macos-4.1.77.Final.jar:/usr/local/hadoop-3.3.5/share/hadoop/hdfs/lib/netty-codec-smtp-4.1.77.Final.jar:/usr/local/hadoop-3.3.5/share/hadoop/hdfs/lib/commons-compress-1.21.jar:/usr/local/hadoop-3.3.5/share/hadoop/hdfs/lib/netty-handler-4.1.77.Final.jar:/usr/local/hadoop-3.3.5/share/hadoop/hdfs/lib/netty-codec-http-4.1.77.Final.jar:/usr/local/hadoop-3.3.5/share/hadoop/hdfs/lib/curator-framework-4.2.0.jar:/usr/local/hadoop-3.3.5/share/hadoop/hdfs/lib/reload4j-1.2.22.jar:/usr/local/hadoop-3.3.5/share/hadoop/hdfs/lib/jcip-annotations-1.0-1.jar:/usr/local/hadoop-3.3.5/share/hadoop/hdfs/lib/kerby-pkix-1.0.1.jar:/usr/local/hadoop-3.3.5/share/hadoop/hdfs/lib/json-simple-1.1.1.jar:/usr/local/hadoop-3.3.5/share/hadoop/hdfs/lib/zookeeper-jute-3.5.6.jar:/usr/local/hadoop-3.3.5/share/hadoop/hdfs/lib/javax.servlet-api-3.1.0.jar:/usr/local/hadoop-3.3.5/share/hadoop/hdfs/lib/kerb-common-1.0.1.jar:/usr/local/hadoop-3.3.5/share/hadoop/hdfs/lib/jackson-mapper-asl-1.9.13.jar:/usr/local/hadoop-3.3.5/share/hadoop/hdfs/lib/netty-transport-native-unix-common-4.1.77.Final.jar:/usr/local/hadoop-3.3.5/share/hadoop/hdfs/lib/netty-codec-http2-4.1.77.Final.jar:/usr/local/hadoop-3.3.5/share/hadoop/hdfs/lib/kerb-util-1.0.1.jar:/usr/local/hadoop-3.3.5/share/hadoop/hdfs/lib/netty-transport-classes-epoll-4.1.77.Final.jar:/usr/local/hadoop-3.3.5/share/hadoop/hdfs/lib/netty-transport-udt-4.1.77.Final.jar:/usr/local/hadoop-3.3.5/share/hadoop/hdfs/lib/netty-codec-haproxy-4.1.77.Final.jar:/usr/local/hadoop-3.3.5/share/hadoop/hdfs/lib/netty-transport-classes-kqueue-4.1.77.Final.jar:/usr/local/hadoop-3.3.5/share/hadoop/hdfs/lib/animal-sniffer-annotations-1.17.jar:/usr/local/hadoop-3.3.5/share/hadoop/hdfs/lib/guava-27.0-jre.jar:/usr/local/hadoop-3.3.5/share/hadoop/hdfs/lib/kerby-xdr-1.0.1.jar:/usr/local/hadoop-3.3.5/share/hadoop/hdfs/lib/netty-resolver-dns-native-macos-4.1.77.Final-osx-aarch_64.jar:/usr/local/hadoop-3.3.5/share/hadoop/hdfs/lib/netty-transport-sctp-4.1.77.Final.jar:/usr/local/hadoop-3.3.5/share/hadoop/hdfs/lib/netty-transport-native-kqueue-4.1.77.Final-osx-aarch_64.jar:/usr/local/hadoop-3.3.5/share/hadoop/hdfs/lib/re2j-1.1.jar:/usr/local/hadoop-3.3.5/share/hadoop/hdfs/lib/kerby-asn1-1.0.1.jar:/usr/local/hadoop-3.3.5/share/hadoop/hdfs/lib/commons-daemon-1.0.13.jar:/usr/local/hadoop-3.3.5/share/hadoop/hdfs/lib/jsr311-api-1.1.1.jar:/usr/local/hadoop-3.3.5/share/hadoop/hdfs/lib/jaxb-api-2.2.11.jar:/usr/local/hadoop-3.3.5/share/hadoop/hdfs/lib/commons-math3-3.1.1.jar:/usr/local/hadoop-3.3.5/share/hadoop/hdfs/lib/commons-cli-1.2.jar:/usr/local/hadoop-3.3.5/share/hadoop/hdfs/lib/commons-configuration2-2.8.0.jar:/usr/local/hadoop-3.3.5/share/hadoop/hdfs/lib/paranamer-2.3.jar:/usr/local/hadoop-3.3.5/share/hadoop/hdfs/lib/jsch-0.1.55.jar:/usr/local/hadoop-3.3.5/share/hadoop/hdfs/lib/kerb-client-1.0.1.jar:/usr/local/hadoop-3.3.5/share/hadoop/hdfs/lib/netty-codec-redis-4.1.77.Final.jar:/usr/local/hadoop-3.3.5/share/hadoop/hdfs/lib/token-provider-1.0.1.jar:/usr/local/hadoop-3.3.5/share/hadoop/hdfs/lib/jetty-io-9.4.48.v20220622.jar:/usr/local/hadoop-3.3.5/share/hadoop/hdfs/lib/stax2-api-4.2.1.jar:/usr/local/hadoop-3.3.5/share/hadoop/hdfs/lib/zookeeper-3.5.6.jar:/usr/local/hadoop-3.3.5/share/hadoop/hdfs/lib/netty-resolver-dns-native-macos-4.1.77.Final-osx-x86_64.jar:/usr/local/hadoop-3.3.5/share/hadoop/hdfs/lib/netty-resolver-dns-4.1.77.Final.jar:/usr/local/hadoop-3.3.5/share/hadoop/hdfs/lib/listenablefuture-9999.0-empty-to-avoid-conflict-with-guava.jar:/usr/local/hadoop-3.3.5/share/hadoop/hdfs/lib/netty-codec-xml-4.1.77.Final.jar:/usr/local/hadoop-3.3.5/share/hadoop/hdfs/lib/httpclient-4.5.13.jar:/usr/local/hadoop-3.3.5/share/hadoop/hdfs/lib/jetty-security-9.4.48.v20220622.jar:/usr/local/hadoop-3.3.5/share/hadoop/hdfs/lib/commons-codec-1.15.jar:/usr/local/hadoop-3.3.5/share/hadoop/hdfs/lib/netty-transport-native-epoll-4.1.77.Final-linux-aarch_64.jar:/usr/local/hadoop-3.3.5/share/hadoop/hdfs/lib/commons-collections-3.2.2.jar:/usr/local/hadoop-3.3.5/share/hadoop/hdfs/lib/kerb-core-1.0.1.jar:/usr/local/hadoop-3.3.5/share/hadoop/hdfs/lib/curator-recipes-4.2.0.jar:/usr/local/hadoop-3.3.5/share/hadoop/hdfs/lib/netty-buffer-4.1.77.Final.jar:/usr/local/hadoop-3.3.5/share/hadoop/hdfs/hadoop-hdfs-3.3.5.jar:/usr/local/hadoop-3.3.5/share/hadoop/hdfs/hadoop-hdfs-3.3.5-tests.jar:/usr/local/hadoop-3.3.5/share/hadoop/hdfs/hadoop-hdfs-rbf-3.3.5-tests.jar:/usr/local/hadoop-3.3.5/share/hadoop/hdfs/hadoop-hdfs-client-3.3.5.jar:/usr/local/hadoop-3.3.5/share/hadoop/hdfs/hadoop-hdfs-native-client-3.3.5.jar:/usr/local/hadoop-3.3.5/share/hadoop/hdfs/hadoop-hdfs-native-client-3.3.5-tests.jar:/usr/local/hadoop-3.3.5/share/hadoop/hdfs/hadoop-hdfs-httpfs-3.3.5.jar:/usr/local/hadoop-3.3.5/share/hadoop/hdfs/hadoop-hdfs-client-3.3.5-tests.jar:/usr/local/hadoop-3.3.5/share/hadoop/hdfs/hadoop-hdfs-rbf-3.3.5.jar:/usr/local/hadoop-3.3.5/share/hadoop/hdfs/hadoop-hdfs-nfs-3.3.5.jar:/usr/local/hadoop-3.3.5/share/hadoop/mapreduce/hadoop-mapreduce-client-shuffle-3.3.5.jar:/usr/local/hadoop-3.3.5/share/hadoop/mapreduce/hadoop-mapreduce-client-hs-plugins-3.3.5.jar:/usr/local/hadoop-3.3.5/share/hadoop/mapreduce/hadoop-mapreduce-client-uploader-3.3.5.jar:/usr/local/hadoop-3.3.5/share/hadoop/mapreduce/hadoop-mapreduce-client-jobclient-3.3.5.jar:/usr/local/hadoop-3.3.5/share/hadoop/mapreduce/hadoop-mapreduce-client-common-3.3.5.jar:/usr/local/hadoop-3.3.5/share/hadoop/mapreduce/hadoop-mapreduce-client-hs-3.3.5.jar:/usr/local/hadoop-3.3.5/share/hadoop/mapreduce/hadoop-mapreduce-client-core-3.3.5.jar:/usr/local/hadoop-3.3.5/share/hadoop/mapreduce/hadoop-mapreduce-client-nativetask-3.3.5.jar:/usr/local/hadoop-3.3.5/share/hadoop/mapreduce/hadoop-mapreduce-client-jobclient-3.3.5-tests.jar:/usr/local/hadoop-3.3.5/share/hadoop/mapreduce/hadoop-mapreduce-client-app-3.3.5.jar:/usr/local/hadoop-3.3.5/share/hadoop/mapreduce/hadoop-mapreduce-examples-3.3.5.jar:/usr/local/hadoop-3.3.5/share/hadoop/yarn:/usr/local/hadoop-3.3.5/share/hadoop/yarn/lib/javax-websocket-client-impl-9.4.48.v20220622.jar:/usr/local/hadoop-3.3.5/share/hadoop/yarn/lib/jackson-jaxrs-json-provider-2.12.7.jar:/usr/local/hadoop-3.3.5/share/hadoop/yarn/lib/jersey-client-1.19.4.jar:/usr/local/hadoop-3.3.5/share/hadoop/yarn/lib/jetty-client-9.4.48.v20220622.jar:/usr/local/hadoop-3.3.5/share/hadoop/yarn/lib/mssql-jdbc-6.2.1.jre7.jar:/usr/local/hadoop-3.3.5/share/hadoop/yarn/lib/jline-3.9.0.jar:/usr/local/hadoop-3.3.5/share/hadoop/yarn/lib/fst-2.50.jar:/usr/local/hadoop-3.3.5/share/hadoop/yarn/lib/websocket-server-9.4.48.v20220622.jar:/usr/local/hadoop-3.3.5/share/hadoop/yarn/lib/HikariCP-java7-2.4.12.jar:/usr/local/hadoop-3.3.5/share/hadoop/yarn/lib/json-io-2.5.1.jar:/usr/local/hadoop-3.3.5/share/hadoop/yarn/lib/javax.websocket-client-api-1.0.jar:/usr/local/hadoop-3.3.5/share/hadoop/yarn/lib/javax.websocket-api-1.0.jar:/usr/local/hadoop-3.3.5/share/hadoop/yarn/lib/jetty-plus-9.4.48.v20220622.jar:/usr/local/hadoop-3.3.5/share/hadoop/yarn/lib/java-util-1.9.0.jar:/usr/local/hadoop-3.3.5/share/hadoop/yarn/lib/bcpkix-jdk15on-1.68.jar:/usr/local/hadoop-3.3.5/share/hadoop/yarn/lib/websocket-common-9.4.48.v20220622.jar:/usr/local/hadoop-3.3.5/share/hadoop/yarn/lib/guice-4.0.jar:/usr/local/hadoop-3.3.5/share/hadoop/yarn/lib/jackson-jaxrs-base-2.12.7.jar:/usr/local/hadoop-3.3.5/share/hadoop/yarn/lib/objenesis-2.6.jar:/usr/local/hadoop-3.3.5/share/hadoop/yarn/lib/jetty-jndi-9.4.48.v20220622.jar:/usr/local/hadoop-3.3.5/share/hadoop/yarn/lib/websocket-servlet-9.4.48.v20220622.jar:/usr/local/hadoop-3.3.5/share/hadoop/yarn/lib/swagger-annotations-1.5.4.jar:/usr/local/hadoop-3.3.5/share/hadoop/yarn/lib/jackson-module-jaxb-annotations-2.12.7.jar:/usr/local/hadoop-3.3.5/share/hadoop/yarn/lib/metrics-core-3.2.4.jar:/usr/local/hadoop-3.3.5/share/hadoop/yarn/lib/aopalliance-1.0.jar:/usr/local/hadoop-3.3.5/share/hadoop/yarn/lib/javax-websocket-server-impl-9.4.48.v20220622.jar:/usr/local/hadoop-3.3.5/share/hadoop/yarn/lib/asm-tree-9.3.jar:/usr/local/hadoop-3.3.5/share/hadoop/yarn/lib/jetty-annotations-9.4.48.v20220622.jar:/usr/local/hadoop-3.3.5/share/hadoop/yarn/lib/javax.inject-1.jar:/usr/local/hadoop-3.3.5/share/hadoop/yarn/lib/websocket-api-9.4.48.v20220622.jar:/usr/local/hadoop-3.3.5/share/hadoop/yarn/lib/websocket-client-9.4.48.v20220622.jar:/usr/local/hadoop-3.3.5/share/hadoop/yarn/lib/jakarta.xml.bind-api-2.3.2.jar:/usr/local/hadoop-3.3.5/share/hadoop/yarn/lib/guice-servlet-4.0.jar:/usr/local/hadoop-3.3.5/share/hadoop/yarn/lib/jna-5.2.0.jar:/usr/local/hadoop-3.3.5/share/hadoop/yarn/lib/asm-analysis-9.3.jar:/usr/local/hadoop-3.3.5/share/hadoop/yarn/lib/ehcache-3.3.1.jar:/usr/local/hadoop-3.3.5/share/hadoop/yarn/lib/snakeyaml-1.32.jar:/usr/local/hadoop-3.3.5/share/hadoop/yarn/lib/jersey-guice-1.19.4.jar:/usr/local/hadoop-3.3.5/share/hadoop/yarn/lib/geronimo-jcache_1.0_spec-1.0-alpha-1.jar:/usr/local/hadoop-3.3.5/share/hadoop/yarn/lib/asm-commons-9.3.jar:/usr/local/hadoop-3.3.5/share/hadoop/yarn/lib/bcprov-jdk15on-1.68.jar:/usr/local/hadoop-3.3.5/share/hadoop/yarn/hadoop-yarn-api-3.3.5.jar:/usr/local/hadoop-3.3.5/share/hadoop/yarn/hadoop-yarn-applications-unmanaged-am-launcher-3.3.5.jar:/usr/local/hadoop-3.3.5/share/hadoop/yarn/hadoop-yarn-applications-distributedshell-3.3.5.jar:/usr/local/hadoop-3.3.5/share/hadoop/yarn/hadoop-yarn-server-timeline-pluginstorage-3.3.5.jar:/usr/local/hadoop-3.3.5/share/hadoop/yarn/hadoop-yarn-common-3.3.5.jar:/usr/local/hadoop-3.3.5/share/hadoop/yarn/hadoop-yarn-server-router-3.3.5.jar:/usr/local/hadoop-3.3.5/share/hadoop/yarn/hadoop-yarn-services-api-3.3.5.jar:/usr/local/hadoop-3.3.5/share/hadoop/yarn/hadoop-yarn-server-resourcemanager-3.3.5.jar:/usr/local/hadoop-3.3.5/share/hadoop/yarn/hadoop-yarn-services-core-3.3.5.jar:/usr/local/hadoop-3.3.5/share/hadoop/yarn/hadoop-yarn-server-nodemanager-3.3.5.jar:/usr/local/hadoop-3.3.5/share/hadoop/yarn/hadoop-yarn-server-tests-3.3.5.jar:/usr/local/hadoop-3.3.5/share/hadoop/yarn/hadoop-yarn-server-sharedcachemanager-3.3.5.jar:/usr/local/hadoop-3.3.5/share/hadoop/yarn/hadoop-yarn-server-web-proxy-3.3.5.jar:/usr/local/hadoop-3.3.5/share/hadoop/yarn/hadoop-yarn-server-common-3.3.5.jar:/usr/local/hadoop-3.3.5/share/hadoop/yarn/hadoop-yarn-applications-mawo-core-3.3.5.jar:/usr/local/hadoop-3.3.5/share/hadoop/yarn/hadoop-yarn-server-applicationhistoryservice-3.3.5.jar:/usr/local/hadoop-3.3.5/share/hadoop/yarn/hadoop-yarn-client-3.3.5.jar:/usr/local/hadoop-3.3.5/share/hadoop/yarn/hadoop-yarn-registry-3.3.5.jar\n",
            "STARTUP_MSG:   build = https://github.com/apache/hadoop.git -r 706d88266abcee09ed78fbaa0ad5f74d818ab0e9; compiled by 'stevel' on 2023-03-15T15:56Z\n",
            "STARTUP_MSG:   java = 1.8.0_362\n",
            "************************************************************/\n",
            "2023-04-25 13:19:47,449 INFO namenode.NameNode: registered UNIX signal handlers for [TERM, HUP, INT]\n",
            "2023-04-25 13:19:47,643 INFO namenode.NameNode: createNameNode [-format]\n",
            "2023-04-25 13:19:48,298 INFO namenode.NameNode: Formatting using clusterid: CID-2fe0e204-cfda-4879-948d-ab18598d0e91\n",
            "2023-04-25 13:19:48,352 INFO namenode.FSEditLog: Edit logging is async:true\n",
            "2023-04-25 13:19:48,397 INFO namenode.FSNamesystem: KeyProvider: null\n",
            "2023-04-25 13:19:48,400 INFO namenode.FSNamesystem: fsLock is fair: true\n",
            "2023-04-25 13:19:48,403 INFO namenode.FSNamesystem: Detailed lock hold time metrics enabled: false\n",
            "2023-04-25 13:19:48,410 INFO namenode.FSNamesystem: fsOwner                = root (auth:SIMPLE)\n",
            "2023-04-25 13:19:48,410 INFO namenode.FSNamesystem: supergroup             = supergroup\n",
            "2023-04-25 13:19:48,410 INFO namenode.FSNamesystem: isPermissionEnabled    = true\n",
            "2023-04-25 13:19:48,411 INFO namenode.FSNamesystem: isStoragePolicyEnabled = true\n",
            "2023-04-25 13:19:48,411 INFO namenode.FSNamesystem: HA Enabled: false\n",
            "2023-04-25 13:19:48,480 INFO common.Util: dfs.datanode.fileio.profiling.sampling.percentage set to 0. Disabling file IO profiling\n",
            "2023-04-25 13:19:48,662 INFO blockmanagement.DatanodeManager: dfs.block.invalidate.limit : configured=1000, counted=60, effected=1000\n",
            "2023-04-25 13:19:48,662 INFO blockmanagement.DatanodeManager: dfs.namenode.datanode.registration.ip-hostname-check=true\n",
            "2023-04-25 13:19:48,668 INFO blockmanagement.BlockManager: dfs.namenode.startup.delay.block.deletion.sec is set to 000:00:00:00.000\n",
            "2023-04-25 13:19:48,668 INFO blockmanagement.BlockManager: The block deletion will start around 2023 Apr 25 13:19:48\n",
            "2023-04-25 13:19:48,671 INFO util.GSet: Computing capacity for map BlocksMap\n",
            "2023-04-25 13:19:48,671 INFO util.GSet: VM type       = 64-bit\n",
            "2023-04-25 13:19:48,672 INFO util.GSet: 2.0% max memory 2.8 GB = 57.8 MB\n",
            "2023-04-25 13:19:48,673 INFO util.GSet: capacity      = 2^23 = 8388608 entries\n",
            "2023-04-25 13:19:48,700 INFO blockmanagement.BlockManager: Storage policy satisfier is disabled\n",
            "2023-04-25 13:19:48,700 INFO blockmanagement.BlockManager: dfs.block.access.token.enable = false\n",
            "2023-04-25 13:19:48,710 INFO blockmanagement.BlockManagerSafeMode: dfs.namenode.safemode.threshold-pct = 0.999\n",
            "2023-04-25 13:19:48,710 INFO blockmanagement.BlockManagerSafeMode: dfs.namenode.safemode.min.datanodes = 0\n",
            "2023-04-25 13:19:48,710 INFO blockmanagement.BlockManagerSafeMode: dfs.namenode.safemode.extension = 30000\n",
            "2023-04-25 13:19:48,711 INFO blockmanagement.BlockManager: defaultReplication         = 1\n",
            "2023-04-25 13:19:48,711 INFO blockmanagement.BlockManager: maxReplication             = 512\n",
            "2023-04-25 13:19:48,711 INFO blockmanagement.BlockManager: minReplication             = 1\n",
            "2023-04-25 13:19:48,711 INFO blockmanagement.BlockManager: maxReplicationStreams      = 2\n",
            "2023-04-25 13:19:48,711 INFO blockmanagement.BlockManager: redundancyRecheckInterval  = 3000ms\n",
            "2023-04-25 13:19:48,711 INFO blockmanagement.BlockManager: encryptDataTransfer        = false\n",
            "2023-04-25 13:19:48,712 INFO blockmanagement.BlockManager: maxNumBlocksToLog          = 1000\n",
            "2023-04-25 13:19:48,787 INFO namenode.FSDirectory: GLOBAL serial map: bits=29 maxEntries=536870911\n",
            "2023-04-25 13:19:48,787 INFO namenode.FSDirectory: USER serial map: bits=24 maxEntries=16777215\n",
            "2023-04-25 13:19:48,787 INFO namenode.FSDirectory: GROUP serial map: bits=24 maxEntries=16777215\n",
            "2023-04-25 13:19:48,787 INFO namenode.FSDirectory: XATTR serial map: bits=24 maxEntries=16777215\n",
            "2023-04-25 13:19:48,804 INFO util.GSet: Computing capacity for map INodeMap\n",
            "2023-04-25 13:19:48,805 INFO util.GSet: VM type       = 64-bit\n",
            "2023-04-25 13:19:48,805 INFO util.GSet: 1.0% max memory 2.8 GB = 28.9 MB\n",
            "2023-04-25 13:19:48,805 INFO util.GSet: capacity      = 2^22 = 4194304 entries\n",
            "2023-04-25 13:19:48,808 INFO namenode.FSDirectory: ACLs enabled? true\n",
            "2023-04-25 13:19:48,808 INFO namenode.FSDirectory: POSIX ACL inheritance enabled? true\n",
            "2023-04-25 13:19:48,808 INFO namenode.FSDirectory: XAttrs enabled? true\n",
            "2023-04-25 13:19:48,809 INFO namenode.NameNode: Caching file names occurring more than 10 times\n",
            "2023-04-25 13:19:48,814 INFO snapshot.SnapshotManager: Loaded config captureOpenFiles: false, skipCaptureAccessTimeOnlyChange: false, snapshotDiffAllowSnapRootDescendant: true, maxSnapshotLimit: 65536\n",
            "2023-04-25 13:19:48,817 INFO snapshot.SnapshotManager: SkipList is disabled\n",
            "2023-04-25 13:19:48,822 INFO util.GSet: Computing capacity for map cachedBlocks\n",
            "2023-04-25 13:19:48,822 INFO util.GSet: VM type       = 64-bit\n",
            "2023-04-25 13:19:48,822 INFO util.GSet: 0.25% max memory 2.8 GB = 7.2 MB\n",
            "2023-04-25 13:19:48,822 INFO util.GSet: capacity      = 2^20 = 1048576 entries\n",
            "2023-04-25 13:19:48,833 INFO metrics.TopMetrics: NNTop conf: dfs.namenode.top.window.num.buckets = 10\n",
            "2023-04-25 13:19:48,833 INFO metrics.TopMetrics: NNTop conf: dfs.namenode.top.num.users = 10\n",
            "2023-04-25 13:19:48,833 INFO metrics.TopMetrics: NNTop conf: dfs.namenode.top.windows.minutes = 1,5,25\n",
            "2023-04-25 13:19:48,838 INFO namenode.FSNamesystem: Retry cache on namenode is enabled\n",
            "2023-04-25 13:19:48,838 INFO namenode.FSNamesystem: Retry cache will use 0.03 of total heap and retry cache entry expiry time is 600000 millis\n",
            "2023-04-25 13:19:48,841 INFO util.GSet: Computing capacity for map NameNodeRetryCache\n",
            "2023-04-25 13:19:48,841 INFO util.GSet: VM type       = 64-bit\n",
            "2023-04-25 13:19:48,841 INFO util.GSet: 0.029999999329447746% max memory 2.8 GB = 887.0 KB\n",
            "2023-04-25 13:19:48,841 INFO util.GSet: capacity      = 2^17 = 131072 entries\n",
            "2023-04-25 13:19:48,872 INFO namenode.FSImage: Allocated new BlockPoolId: BP-1558099960-172.28.0.12-1682428788862\n",
            "2023-04-25 13:19:48,935 INFO common.Storage: Storage directory /tmp/hadoop-root/dfs/name has been successfully formatted.\n",
            "2023-04-25 13:19:49,101 INFO namenode.FSImageFormatProtobuf: Saving image file /tmp/hadoop-root/dfs/name/current/fsimage.ckpt_0000000000000000000 using no compression\n",
            "2023-04-25 13:19:49,242 INFO namenode.FSImageFormatProtobuf: Image file /tmp/hadoop-root/dfs/name/current/fsimage.ckpt_0000000000000000000 of size 396 bytes saved in 0 seconds .\n",
            "2023-04-25 13:19:49,263 INFO namenode.NNStorageRetentionManager: Going to retain 1 images with txid >= 0\n",
            "2023-04-25 13:19:49,306 INFO namenode.FSNamesystem: Stopping services started for active state\n",
            "2023-04-25 13:19:49,306 INFO namenode.FSNamesystem: Stopping services started for standby state\n",
            "2023-04-25 13:19:49,311 INFO namenode.FSImage: FSImageSaver clean checkpoint: txid=0 when meet shutdown.\n",
            "2023-04-25 13:19:49,312 INFO namenode.NameNode: SHUTDOWN_MSG: \n",
            "/************************************************************\n",
            "SHUTDOWN_MSG: Shutting down NameNode at f3a85488ec73/172.28.0.12\n",
            "************************************************************/\n"
          ]
        }
      ]
    },
    {
      "cell_type": "markdown",
      "source": [
        "Hadoop scripts"
      ],
      "metadata": {
        "id": "bJYwmqrZN3Ql"
      }
    },
    {
      "cell_type": "markdown",
      "source": [
        "Hadoop comes with scripts for running commands, and starting and stopping daemons across the whole cluster. These scripts can be found in the bin and sbin directories"
      ],
      "metadata": {
        "id": "0frkp5aMV7n0"
      }
    },
    {
      "cell_type": "code",
      "source": [
        "#Exploring Hadoop scripts available in sbin directory\n",
        "!ls $HADOOP_HOME/sbin"
      ],
      "metadata": {
        "colab": {
          "base_uri": "https://localhost:8080/"
        },
        "id": "UPDf1gXRN2DH",
        "outputId": "b4aac9b6-6a4a-408f-bd3f-def81d83a0ee"
      },
      "execution_count": null,
      "outputs": [
        {
          "output_type": "stream",
          "name": "stdout",
          "text": [
            "distribute-exclude.sh\t start-all.sh\t      stop-balancer.sh\n",
            "FederationStateStore\t start-balancer.sh    stop-dfs.cmd\n",
            "hadoop-daemon.sh\t start-dfs.cmd\t      stop-dfs.sh\n",
            "hadoop-daemons.sh\t start-dfs.sh\t      stop-secure-dns.sh\n",
            "httpfs.sh\t\t start-secure-dns.sh  stop-yarn.cmd\n",
            "kms.sh\t\t\t start-yarn.cmd       stop-yarn.sh\n",
            "mr-jobhistory-daemon.sh  start-yarn.sh\t      workers.sh\n",
            "refresh-namenodes.sh\t stop-all.cmd\t      yarn-daemon.sh\n",
            "start-all.cmd\t\t stop-all.sh\t      yarn-daemons.sh\n"
          ]
        }
      ]
    },
    {
      "cell_type": "code",
      "source": [
        "#Creating other necessary enviroment variables before starting nodes\n",
        "os.environ[\"HDFS_NAMENODE_USER\"] = \"root\"\n",
        "os.environ[\"HDFS_DATANODE_USER\"] = \"root\"\n",
        "os.environ[\"HDFS_SECONDARYNAMENODE_USER\"] = \"root\"\n",
        "os.environ[\"YARN_RESOURCEMANAGER_USER\"] = \"root\"\n",
        "os.environ[\"YARN_NODEMANAGER_USER\"] = \"root\""
      ],
      "metadata": {
        "id": "oN-jeeavWFa5"
      },
      "execution_count": null,
      "outputs": []
    },
    {
      "cell_type": "code",
      "source": [
        "#Launching hdfs deamons\n",
        "!$HADOOP_HOME/sbin/start-dfs.sh"
      ],
      "metadata": {
        "id": "U6METYYLTQD4",
        "outputId": "5612c069-018f-4304-dd31-8a54d0f6120f",
        "colab": {
          "base_uri": "https://localhost:8080/"
        }
      },
      "execution_count": null,
      "outputs": [
        {
          "output_type": "stream",
          "name": "stdout",
          "text": [
            "Starting namenodes on [localhost]\n",
            "Starting datanodes\n",
            "Starting secondary namenodes [f3a85488ec73]\n",
            "f3a85488ec73: Warning: Permanently added 'f3a85488ec73,172.28.0.12' (ECDSA) to the list of known hosts.\n"
          ]
        }
      ]
    },
    {
      "cell_type": "code",
      "source": [
        "#Listing the running deamons\n",
        "!jps"
      ],
      "metadata": {
        "colab": {
          "base_uri": "https://localhost:8080/"
        },
        "id": "phffzEs0xiql",
        "outputId": "ed869ce0-aaee-49d7-8181-6a6bb8d3d218"
      },
      "execution_count": null,
      "outputs": [
        {
          "output_type": "stream",
          "name": "stdout",
          "text": [
            "1873 SecondaryNameNode\n",
            "1559 NameNode\n",
            "1674 DataNode\n",
            "2044 Jps\n"
          ]
        }
      ]
    },
    {
      "cell_type": "code",
      "source": [
        "#Launching yarn deamons\n",
        "#nohup causes a process to ignore a SIGHUP signal\n",
        "!nohup $HADOOP_HOME/sbin/start-yarn.sh"
      ],
      "metadata": {
        "colab": {
          "base_uri": "https://localhost:8080/"
        },
        "id": "51Ytj29pLxeT",
        "outputId": "c10b0dd2-6bcc-43c7-de04-c476b6e27041"
      },
      "execution_count": null,
      "outputs": [
        {
          "output_type": "stream",
          "name": "stdout",
          "text": [
            "nohup: ignoring input and appending output to 'nohup.out'\n"
          ]
        }
      ]
    },
    {
      "cell_type": "code",
      "source": [
        "#Listing the running deamons\n",
        "!jps"
      ],
      "metadata": {
        "colab": {
          "base_uri": "https://localhost:8080/"
        },
        "id": "e8T7Q5OiUQ8R",
        "outputId": "d5ff76fd-e5fa-47dd-f62e-1b654ceb57fa"
      },
      "execution_count": null,
      "outputs": [
        {
          "output_type": "stream",
          "name": "stdout",
          "text": [
            "1873 SecondaryNameNode\n",
            "2149 ResourceManager\n",
            "2357 Jps\n",
            "1559 NameNode\n",
            "2248 NodeManager\n",
            "1674 DataNode\n"
          ]
        }
      ]
    },
    {
      "cell_type": "markdown",
      "source": [
        "Monitoring Hadoop cluster with hadoop admin commands"
      ],
      "metadata": {
        "id": "NMHP25Pda5I0"
      }
    },
    {
      "cell_type": "code",
      "source": [
        "#Report the basic file system information and statistics\n",
        "!$HADOOP_HOME/bin/hdfs dfsadmin -report"
      ],
      "metadata": {
        "colab": {
          "base_uri": "https://localhost:8080/"
        },
        "id": "F4CeeemSl01c",
        "outputId": "9416359c-4100-4bc8-eaf3-24aa4a56a9cf"
      },
      "execution_count": null,
      "outputs": [
        {
          "output_type": "stream",
          "name": "stdout",
          "text": [
            "Configured Capacity: 115658190848 (107.72 GB)\n",
            "Present Capacity: 87660822528 (81.64 GB)\n",
            "DFS Remaining: 87660797952 (81.64 GB)\n",
            "DFS Used: 24576 (24 KB)\n",
            "DFS Used%: 0.00%\n",
            "Replicated Blocks:\n",
            "\tUnder replicated blocks: 0\n",
            "\tBlocks with corrupt replicas: 0\n",
            "\tMissing blocks: 0\n",
            "\tMissing blocks (with replication factor 1): 0\n",
            "\tLow redundancy blocks with highest priority to recover: 0\n",
            "\tPending deletion blocks: 0\n",
            "Erasure Coded Block Groups: \n",
            "\tLow redundancy block groups: 0\n",
            "\tBlock groups with corrupt internal blocks: 0\n",
            "\tMissing block groups: 0\n",
            "\tLow redundancy blocks with highest priority to recover: 0\n",
            "\tPending deletion blocks: 0\n",
            "\n",
            "-------------------------------------------------\n",
            "Live datanodes (1):\n",
            "\n",
            "Name: 127.0.0.1:9866 (localhost)\n",
            "Hostname: f3a85488ec73\n",
            "Decommission Status : Normal\n",
            "Configured Capacity: 115658190848 (107.72 GB)\n",
            "DFS Used: 24576 (24 KB)\n",
            "Non DFS Used: 27980591104 (26.06 GB)\n",
            "DFS Remaining: 87660797952 (81.64 GB)\n",
            "DFS Used%: 0.00%\n",
            "DFS Remaining%: 75.79%\n",
            "Configured Cache Capacity: 0 (0 B)\n",
            "Cache Used: 0 (0 B)\n",
            "Cache Remaining: 0 (0 B)\n",
            "Cache Used%: 100.00%\n",
            "Cache Remaining%: 0.00%\n",
            "Xceivers: 0\n",
            "Last contact: Tue Apr 25 13:20:27 UTC 2023\n",
            "Last Block Report: Tue Apr 25 13:20:04 UTC 2023\n",
            "Num of Blocks: 0\n",
            "\n",
            "\n"
          ]
        }
      ]
    },
    {
      "cell_type": "markdown",
      "source": [
        "Running wordcount in pseudo-distributed mode"
      ],
      "metadata": {
        "id": "HswIl9TN19RQ"
      }
    },
    {
      "cell_type": "code",
      "source": [
        "#Dowloading text example to use as input (if it has not been donwloaded yet)\n",
        "!wget -q https://www.mirrorservice.org/sites/ftp.ibiblio.org/pub/docs/books/gutenberg/1/0/101/101.txt"
      ],
      "metadata": {
        "id": "bnZ4nS_qcNiL"
      },
      "execution_count": null,
      "outputs": []
    },
    {
      "cell_type": "code",
      "source": [
        "#Creating directory in HDFS\n",
        "!$HADOOP_HOME/bin/hdfs dfs -mkdir /word_count\n",
        "#Coping file from local file system to HDFS\n",
        "!$HADOOP_HOME/bin/hdfs dfs -put /content/101.txt /word_count"
      ],
      "metadata": {
        "id": "X0Rdrw-E610_"
      },
      "execution_count": null,
      "outputs": []
    },
    {
      "cell_type": "code",
      "source": [
        "#Exploring Hadoop folder\n",
        "!$HADOOP_HOME/bin/hdfs dfs -ls /word_count"
      ],
      "metadata": {
        "colab": {
          "base_uri": "https://localhost:8080/"
        },
        "id": "NHDDarRG7BK1",
        "outputId": "3c444d09-7baa-4fc7-947d-cc7075fa63a8"
      },
      "execution_count": null,
      "outputs": [
        {
          "output_type": "stream",
          "name": "stdout",
          "text": [
            "Found 1 items\n",
            "-rw-r--r--   1 root supergroup     678064 2023-04-25 13:20 /word_count/101.txt\n"
          ]
        }
      ]
    },
    {
      "cell_type": "code",
      "source": [
        "#Running MapReduce program wordcount \n",
        "!$HADOOP_HOME/bin/hadoop jar $HADOOP_HOME/share/hadoop/mapreduce/hadoop-mapreduce-examples-3.3.5.jar wordcount /word_count/101.txt /word_count/output/"
      ],
      "metadata": {
        "colab": {
          "base_uri": "https://localhost:8080/"
        },
        "id": "yhQOhKonnKsL",
        "outputId": "e7b95376-6352-479a-939c-0053141b9957"
      },
      "execution_count": null,
      "outputs": [
        {
          "output_type": "stream",
          "name": "stdout",
          "text": [
            "2023-04-25 13:20:44,592 INFO client.DefaultNoHARMFailoverProxyProvider: Connecting to ResourceManager at localhost/127.0.0.1:8032\n",
            "2023-04-25 13:20:45,261 INFO mapreduce.JobResourceUploader: Disabling Erasure Coding for path: /tmp/hadoop-yarn/staging/root/.staging/job_1682428829022_0001\n",
            "2023-04-25 13:20:45,732 INFO input.FileInputFormat: Total input files to process : 1\n",
            "2023-04-25 13:20:45,862 INFO mapreduce.JobSubmitter: number of splits:1\n",
            "2023-04-25 13:20:46,501 INFO mapreduce.JobSubmitter: Submitting tokens for job: job_1682428829022_0001\n",
            "2023-04-25 13:20:46,501 INFO mapreduce.JobSubmitter: Executing with tokens: []\n",
            "2023-04-25 13:20:46,786 INFO conf.Configuration: resource-types.xml not found\n",
            "2023-04-25 13:20:46,787 INFO resource.ResourceUtils: Unable to find 'resource-types.xml'.\n",
            "2023-04-25 13:20:47,334 INFO impl.YarnClientImpl: Submitted application application_1682428829022_0001\n",
            "2023-04-25 13:20:47,424 INFO mapreduce.Job: The url to track the job: http://f3a85488ec73:8088/proxy/application_1682428829022_0001/\n",
            "2023-04-25 13:20:47,424 INFO mapreduce.Job: Running job: job_1682428829022_0001\n",
            "2023-04-25 13:20:59,846 INFO mapreduce.Job: Job job_1682428829022_0001 running in uber mode : false\n",
            "2023-04-25 13:20:59,847 INFO mapreduce.Job:  map 0% reduce 0%\n",
            "2023-04-25 13:21:07,052 INFO mapreduce.Job:  map 100% reduce 0%\n",
            "2023-04-25 13:21:14,114 INFO mapreduce.Job:  map 100% reduce 100%\n",
            "2023-04-25 13:21:15,135 INFO mapreduce.Job: Job job_1682428829022_0001 completed successfully\n",
            "2023-04-25 13:21:15,278 INFO mapreduce.Job: Counters: 54\n",
            "\tFile System Counters\n",
            "\t\tFILE: Number of bytes read=318005\n",
            "\t\tFILE: Number of bytes written=1188001\n",
            "\t\tFILE: Number of read operations=0\n",
            "\t\tFILE: Number of large read operations=0\n",
            "\t\tFILE: Number of write operations=0\n",
            "\t\tHDFS: Number of bytes read=678169\n",
            "\t\tHDFS: Number of bytes written=233636\n",
            "\t\tHDFS: Number of read operations=8\n",
            "\t\tHDFS: Number of large read operations=0\n",
            "\t\tHDFS: Number of write operations=2\n",
            "\t\tHDFS: Number of bytes read erasure-coded=0\n",
            "\tJob Counters \n",
            "\t\tLaunched map tasks=1\n",
            "\t\tLaunched reduce tasks=1\n",
            "\t\tData-local map tasks=1\n",
            "\t\tTotal time spent by all maps in occupied slots (ms)=5186\n",
            "\t\tTotal time spent by all reduces in occupied slots (ms)=4163\n",
            "\t\tTotal time spent by all map tasks (ms)=5186\n",
            "\t\tTotal time spent by all reduce tasks (ms)=4163\n",
            "\t\tTotal vcore-milliseconds taken by all map tasks=5186\n",
            "\t\tTotal vcore-milliseconds taken by all reduce tasks=4163\n",
            "\t\tTotal megabyte-milliseconds taken by all map tasks=5310464\n",
            "\t\tTotal megabyte-milliseconds taken by all reduce tasks=4262912\n",
            "\tMap-Reduce Framework\n",
            "\t\tMap input records=13006\n",
            "\t\tMap output records=105488\n",
            "\t\tMap output bytes=1078906\n",
            "\t\tMap output materialized bytes=318005\n",
            "\t\tInput split bytes=105\n",
            "\t\tCombine input records=105488\n",
            "\t\tCombine output records=21438\n",
            "\t\tReduce input groups=21438\n",
            "\t\tReduce shuffle bytes=318005\n",
            "\t\tReduce input records=21438\n",
            "\t\tReduce output records=21438\n",
            "\t\tSpilled Records=42876\n",
            "\t\tShuffled Maps =1\n",
            "\t\tFailed Shuffles=0\n",
            "\t\tMerged Map outputs=1\n",
            "\t\tGC time elapsed (ms)=398\n",
            "\t\tCPU time spent (ms)=4040\n",
            "\t\tPhysical memory (bytes) snapshot=734015488\n",
            "\t\tVirtual memory (bytes) snapshot=5087682560\n",
            "\t\tTotal committed heap usage (bytes)=838336512\n",
            "\t\tPeak Map Physical memory (bytes)=499036160\n",
            "\t\tPeak Map Virtual memory (bytes)=2543116288\n",
            "\t\tPeak Reduce Physical memory (bytes)=234979328\n",
            "\t\tPeak Reduce Virtual memory (bytes)=2544836608\n",
            "\tShuffle Errors\n",
            "\t\tBAD_ID=0\n",
            "\t\tCONNECTION=0\n",
            "\t\tIO_ERROR=0\n",
            "\t\tWRONG_LENGTH=0\n",
            "\t\tWRONG_MAP=0\n",
            "\t\tWRONG_REDUCE=0\n",
            "\tFile Input Format Counters \n",
            "\t\tBytes Read=678064\n",
            "\tFile Output Format Counters \n",
            "\t\tBytes Written=233636\n"
          ]
        }
      ]
    },
    {
      "cell_type": "code",
      "source": [
        "#Exploring the created output directory\n",
        "#part-r-00000 contains the actual ouput\n",
        "!$HADOOP_HOME/bin/hdfs dfs -ls /word_count/output"
      ],
      "metadata": {
        "colab": {
          "base_uri": "https://localhost:8080/"
        },
        "id": "GZAT1WmQ3oGM",
        "outputId": "d483e35a-2f2f-4416-d8f6-7bbff3376f57"
      },
      "execution_count": null,
      "outputs": [
        {
          "output_type": "stream",
          "name": "stdout",
          "text": [
            "Found 2 items\n",
            "-rw-r--r--   1 root supergroup          0 2023-04-25 13:21 /word_count/output/_SUCCESS\n",
            "-rw-r--r--   1 root supergroup     233636 2023-04-25 13:21 /word_count/output/part-r-00000\n"
          ]
        }
      ]
    },
    {
      "cell_type": "code",
      "source": [
        "#Printing out first 50 lines\n",
        "!$HADOOP_HOME/bin/hdfs dfs -cat /word_count/output/part-r-00000 | head -50"
      ],
      "metadata": {
        "colab": {
          "base_uri": "https://localhost:8080/"
        },
        "id": "q37LukH09Jx1",
        "outputId": "7af87430-96fd-496d-ce7a-a4314f22401e"
      },
      "execution_count": null,
      "outputs": [
        {
          "output_type": "stream",
          "name": "stdout",
          "text": [
            "\"(d)\t1\n",
            "\"/H\"\t1\n",
            "\"0\"\t1\n",
            "\"02\"\t2\n",
            "\"1.\t1\n",
            "\"414\t3\n",
            "\"A\t2\n",
            "\"AT&T\t3\n",
            "\"AT&T's\t1\n",
            "\"Access\t1\n",
            "\"Acid\t3\n",
            "\"Ad-hocracy\"\t1\n",
            "\"Advanced\t1\n",
            "\"Agents\t1\n",
            "\"Al\t3\n",
            "\"All\t3\n",
            "\"American\t1\n",
            "\"An\t1\n",
            "\"And\t2\n",
            "\"Any\t1\n",
            "\"Are\t3\n",
            "\"Artificial\t1\n",
            "\"As\t1\n",
            "\"Assistant\t1\n",
            "\"Attctc\"\t2\n",
            "\"Auld\t1\n",
            "\"Autodesk,\"\t1\n",
            "\"BBS,\"\t2\n",
            "\"BIRTHPLACE\t1\n",
            "\"BRITS\t1\n",
            "\"Barry\t1\n",
            "\"Because\t1\n",
            "\"Before\t1\n",
            "\"Bell\t2\n",
            "\"Bell\"\t1\n",
            "\"BellSouth\t2\n",
            "\"Berkeley\t1\n",
            "\"Big\t1\n",
            "\"Biggest\t1\n",
            "\"Black\t3\n",
            "\"Blue\t1\n",
            "\"Bob\"\t1\n",
            "\"Bob,\t3\n",
            "\"Bob:\t1\n",
            "\"Bullet-N-Board.\"\t1\n",
            "\"Bureaucrat-ese\t1\n",
            "\"But\t4\n",
            "\"C-word.\"\t1\n",
            "\"CALIFORNIA\"\t1\n",
            "\"CC,\"\t1\n",
            "cat: Unable to write to output stream.\n"
          ]
        }
      ]
    },
    {
      "cell_type": "markdown",
      "source": [
        "Hadoop Streaming Using Python"
      ],
      "metadata": {
        "id": "vaGFzgmIzLLi"
      }
    },
    {
      "cell_type": "markdown",
      "source": [
        "Hadoop Streaming is a feature that comes with Hadoop and allows users or developers to use various different languages for writing **MapReduce** programs like Python, C++, Ruby, etc.\n",
        "\n",
        "The utility will create a Map/Reduce job, submit the job to an appropriate cluster, and monitor the progress of the job until it completes."
      ],
      "metadata": {
        "id": "RJXp5YpCzI22"
      }
    },
    {
      "cell_type": "code",
      "source": [
        "#Exploring Hadoop utilities available\n",
        "!ls $HADOOP_HOME/share/hadoop/tools/lib/"
      ],
      "metadata": {
        "colab": {
          "base_uri": "https://localhost:8080/"
        },
        "id": "SuR_rvlR0eWs",
        "outputId": "a38ea348-a4d8-4abd-f815-367a95493506"
      },
      "execution_count": null,
      "outputs": [
        {
          "output_type": "stream",
          "name": "stdout",
          "text": [
            "aliyun-java-sdk-core-4.5.10.jar        hadoop-gridmix-3.3.5.jar\n",
            "aliyun-java-sdk-kms-2.11.0.jar\t       hadoop-kafka-3.3.5.jar\n",
            "aliyun-java-sdk-ram-3.1.0.jar\t       hadoop-minicluster-3.3.5.jar\n",
            "aliyun-sdk-oss-3.13.0.jar\t       hadoop-resourceestimator-3.3.5.jar\n",
            "aws-java-sdk-bundle-1.12.316.jar       hadoop-rumen-3.3.5.jar\n",
            "azure-data-lake-store-sdk-2.3.9.jar    hadoop-sls-3.3.5.jar\n",
            "azure-keyvault-core-1.0.0.jar\t       hadoop-streaming-3.3.5.jar\n",
            "azure-storage-7.0.1.jar\t\t       hamcrest-core-1.3.jar\n",
            "hadoop-aliyun-3.3.5.jar\t\t       ini4j-0.5.4.jar\n",
            "hadoop-archive-logs-3.3.5.jar\t       jdk.tools-1.8.jar\n",
            "hadoop-archives-3.3.5.jar\t       jdom2-2.0.6.jar\n",
            "hadoop-aws-3.3.5.jar\t\t       junit-4.13.2.jar\n",
            "hadoop-azure-3.3.5.jar\t\t       kafka-clients-2.8.1.jar\n",
            "hadoop-azure-datalake-3.3.5.jar        lz4-java-1.7.1.jar\n",
            "hadoop-client-3.3.5.jar\t\t       ojalgo-43.0.jar\n",
            "hadoop-datajoin-3.3.5.jar\t       opentracing-api-0.33.0.jar\n",
            "hadoop-distcp-3.3.5.jar\t\t       opentracing-noop-0.33.0.jar\n",
            "hadoop-dynamometer-blockgen-3.3.5.jar  opentracing-util-0.33.0.jar\n",
            "hadoop-dynamometer-infra-3.3.5.jar     org.jacoco.agent-0.8.5-runtime.jar\n",
            "hadoop-dynamometer-workload-3.3.5.jar  wildfly-openssl-1.1.3.Final.jar\n",
            "hadoop-extras-3.3.5.jar\t\t       zstd-jni-1.4.9-1.jar\n",
            "hadoop-fs2img-3.3.5.jar\n"
          ]
        }
      ]
    },
    {
      "cell_type": "code",
      "source": [
        "#Dowloading text example to use as input (if it has not been donwloaded yet)\n",
        "!wget -q https://www.mirrorservice.org/sites/ftp.ibiblio.org/pub/docs/books/gutenberg/1/0/101/101.txt"
      ],
      "metadata": {
        "id": "wk3DCuzh3hkw"
      },
      "execution_count": null,
      "outputs": []
    },
    {
      "cell_type": "code",
      "source": [
        "#Creating directory in HDFS\n",
        "!$HADOOP_HOME/bin/hdfs dfs -mkdir /word_count_with_python"
      ],
      "metadata": {
        "id": "DnDoNgGxj-kB"
      },
      "execution_count": null,
      "outputs": []
    },
    {
      "cell_type": "code",
      "source": [
        "#Copying the file from local file system to Hadoop distributed file system (HDFS)\n",
        "!$HADOOP_HOME/bin/hdfs dfs -put /content/101.txt /word_count_with_python"
      ],
      "metadata": {
        "id": "ELSi8ljdCfyc"
      },
      "execution_count": null,
      "outputs": []
    },
    {
      "cell_type": "markdown",
      "source": [
        "Mapper"
      ],
      "metadata": {
        "id": "x92pOYK6zxZT"
      }
    },
    {
      "cell_type": "markdown",
      "source": [
        "The mapper is an executable that reads all input records from a file/s and generates an output in the form of key-value pairs which works as input for the Reducer."
      ],
      "metadata": {
        "id": "tIceSP8y-crR"
      }
    },
    {
      "cell_type": "code",
      "source": [
        "%%writefile mapper.py\n",
        "\n",
        "#!/usr/bin/env python\n",
        "\n",
        "#'#!' is known as shebang and used for interpreting the script\n",
        "\n",
        "# import sys because we need to read and write data to STDIN and STDOUT\n",
        "import sys\n",
        "  \n",
        "# reading entire line from STDIN (standard input)\n",
        "for line in sys.stdin:\n",
        "  # to remove leading and trailing whitespace\n",
        "  line = line.strip()\n",
        "  # split the line into words\n",
        "  words = line.split()\n",
        "    \n",
        "  # we are looping over the words array and printing the word\n",
        "  # with the count of 1 to the STDOUT\n",
        "  for word in words:\n",
        "    # write the results to STDOUT (standard output);\n",
        "    # what we output here will be the input for the\n",
        "    # Reduce step, i.e. the input for reducer.py\n",
        "    print('%s\\t%s' % (word, 1))"
      ],
      "metadata": {
        "colab": {
          "base_uri": "https://localhost:8080/"
        },
        "id": "dlrxI4_0zypI",
        "outputId": "044f4ffb-0024-4989-9d2f-8c9abc6d5c3a"
      },
      "execution_count": null,
      "outputs": [
        {
          "output_type": "stream",
          "name": "stdout",
          "text": [
            "Writing mapper.py\n"
          ]
        }
      ]
    },
    {
      "cell_type": "markdown",
      "source": [
        "Reducer"
      ],
      "metadata": {
        "id": "9ssZYFBq_HtK"
      }
    },
    {
      "cell_type": "markdown",
      "source": [
        "The reducer is an executable that reads all the intermediate key-value pairs generated by the mapper and generates a final output as a result of a computation operation like addition, filtration, and aggregation.\n",
        "\n",
        "Both the mapper and the reducer read the input from stdin (line by line) and emit the output to stdout."
      ],
      "metadata": {
        "id": "iu0p-9g7BEvr"
      }
    },
    {
      "cell_type": "code",
      "source": [
        "%%writefile reducer.py\n",
        "\n",
        "#!/usr/bin/env python\n",
        "  \n",
        "from operator import itemgetter\n",
        "import sys\n",
        "  \n",
        "current_word = None\n",
        "current_count = 0\n",
        "word = None\n",
        "  \n",
        "# read the entire line from STDIN\n",
        "for line in sys.stdin:\n",
        "  # remove leading and trailing whitespace\n",
        "  line = line.strip()\n",
        "  # splitting the data on the basis of tab we have provided in mapper.py\n",
        "  word, count = line.split('\\t', 1)\n",
        "  # convert count (currently a string) to int\n",
        "  try:\n",
        "    count = int(count)\n",
        "  except ValueError:\n",
        "    # count was not a number, so silently\n",
        "    # ignore/discard this line\n",
        "    continue\n",
        "  \n",
        "  # this IF-switch only works because Hadoop sorts map output\n",
        "  # by key (here: word) before it is passed to the reducer\n",
        "  if current_word == word:\n",
        "    current_count += count\n",
        "  else:\n",
        "    if current_word: #to not print current_word=None\n",
        "      # write result to STDOUT\n",
        "      print('%s\\t%s' % (current_word, current_count))\n",
        "    current_count = count\n",
        "    current_word = word\n",
        "  \n",
        "# do not forget to output the last word if needed!\n",
        "if current_word == word:\n",
        "  print('%s\\t%s' % (current_word, current_count))"
      ],
      "metadata": {
        "colab": {
          "base_uri": "https://localhost:8080/"
        },
        "id": "XHy3YQiN_Ogi",
        "outputId": "a6cec5be-461d-4b82-8a8b-7c7752130ece"
      },
      "execution_count": null,
      "outputs": [
        {
          "output_type": "stream",
          "name": "stdout",
          "text": [
            "Writing reducer.py\n"
          ]
        }
      ]
    },
    {
      "cell_type": "code",
      "source": [
        "#Testing our MapReduce job locally (Hadoop does not participate here)\n",
        "!cat 101.txt | python mapper.py | sort -k1,1 | python reducer.py | head -50\n",
        "#We apply sorting after the mapper because it is the default operation in MapReduce architecture"
      ],
      "metadata": {
        "id": "0vpHJ3OA_4aI",
        "colab": {
          "base_uri": "https://localhost:8080/"
        },
        "outputId": "762ac5e7-ed8e-406b-e44c-3df0c056d1f8"
      },
      "execution_count": null,
      "outputs": [
        {
          "output_type": "stream",
          "name": "stdout",
          "text": [
            "#\t31\n",
            "##\t2\n",
            "##!\t1\n",
            "&\t10\n",
            "(.\t8\n",
            "**\t4\n",
            "***\t8\n",
            "*****\t2\n",
            "+\t2\n",
            "+------------+\t2\n",
            "-\t39\n",
            "-----------\t1\n",
            "-------------\t1\n",
            "---------------\t1\n",
            "----------------------\t1\n",
            "----------------------------\t1\n",
            "---------------------------------\t1\n",
            "-----------------------------------\t1\n",
            ".\t271\n",
            ".\"\t9\n",
            ".'\t1\n",
            ".)\t8\n",
            ":\t1\n",
            "=\t2\n",
            "@\t1\n",
            "_____________________________________\t1\n",
            "~~~~~~~~~~~~~~\t1\n",
            "~~~~~~~~~~~~~~~~~~~~~\t2\n",
            "~~~~~~~~~~~~~~~~~~~~~~~~~~~~~~~~~\t1\n",
            "($1\t1\n",
            "$10,000\t1\n",
            "$1.2\t1\n",
            "$129.\t1\n",
            "$13,\t1\n",
            "$17,099.\t1\n",
            "$1877.20).\t1\n",
            "$20.\t1\n",
            "$233,000\t1\n",
            "$233,846.14,\t1\n",
            "$233,880\t2\n",
            "$24,639.05--based,\t1\n",
            "$25\t1\n",
            "$250,000--through\t1\n",
            "$252.36.\t1\n",
            "$27\t1\n",
            "$300,000\t1\n",
            "$31\t1\n",
            "$313.\t1\n",
            "$35\t1\n",
            "$367.\t1\n",
            "Traceback (most recent call last):\n",
            "  File \"/content/reducer.py\", line 32, in <module>\n",
            "    print('%s\\t%s' % (current_word, current_count))\n",
            "BrokenPipeError: [Errno 32] Broken pipe\n"
          ]
        }
      ]
    },
    {
      "cell_type": "code",
      "source": [
        "#Changing the permissions of the files\n",
        "!chmod 777 /content/mapper.py /content/reducer.py\n",
        "#Setting 777 permissions to a file or directory means that it will be readable, writable and executable by all users"
      ],
      "metadata": {
        "id": "3Vvg_0vcAD-8"
      },
      "execution_count": null,
      "outputs": []
    },
    {
      "cell_type": "code",
      "source": [
        "#Running MapReduce programs\n",
        "!$HADOOP_HOME/bin/hadoop jar $HADOOP_HOME/share/hadoop/tools/lib/hadoop-streaming-3.3.5.jar \\\n",
        "  -input /word_count_with_python/101.txt \\\n",
        "  -output /word_count_with_python/output \\\n",
        "  -mapper \"python /content/mapper.py\" \\\n",
        "  -reducer \"python /content/reducer.py\""
      ],
      "metadata": {
        "colab": {
          "base_uri": "https://localhost:8080/"
        },
        "id": "kVxn2MR01DSy",
        "outputId": "658c1fb9-ff9f-444b-9441-a643ec51824d"
      },
      "execution_count": null,
      "outputs": [
        {
          "output_type": "stream",
          "name": "stdout",
          "text": [
            "packageJobJar: [/tmp/hadoop-unjar2624460283216899874/] [] /tmp/streamjob3790227335291246260.jar tmpDir=null\n",
            "2023-04-25 13:21:34,690 INFO client.DefaultNoHARMFailoverProxyProvider: Connecting to ResourceManager at localhost/127.0.0.1:8032\n",
            "2023-04-25 13:21:35,045 INFO client.DefaultNoHARMFailoverProxyProvider: Connecting to ResourceManager at localhost/127.0.0.1:8032\n",
            "2023-04-25 13:21:35,395 INFO mapreduce.JobResourceUploader: Disabling Erasure Coding for path: /tmp/hadoop-yarn/staging/root/.staging/job_1682428829022_0002\n",
            "2023-04-25 13:21:35,839 INFO mapred.FileInputFormat: Total input files to process : 1\n",
            "2023-04-25 13:21:35,958 INFO mapreduce.JobSubmitter: number of splits:2\n",
            "2023-04-25 13:21:36,195 INFO mapreduce.JobSubmitter: Submitting tokens for job: job_1682428829022_0002\n",
            "2023-04-25 13:21:36,195 INFO mapreduce.JobSubmitter: Executing with tokens: []\n",
            "2023-04-25 13:21:36,530 INFO conf.Configuration: resource-types.xml not found\n",
            "2023-04-25 13:21:36,530 INFO resource.ResourceUtils: Unable to find 'resource-types.xml'.\n",
            "2023-04-25 13:21:36,627 INFO impl.YarnClientImpl: Submitted application application_1682428829022_0002\n",
            "2023-04-25 13:21:36,697 INFO mapreduce.Job: The url to track the job: http://f3a85488ec73:8088/proxy/application_1682428829022_0002/\n",
            "2023-04-25 13:21:36,699 INFO mapreduce.Job: Running job: job_1682428829022_0002\n",
            "2023-04-25 13:21:46,010 INFO mapreduce.Job: Job job_1682428829022_0002 running in uber mode : false\n",
            "2023-04-25 13:21:46,011 INFO mapreduce.Job:  map 0% reduce 0%\n",
            "2023-04-25 13:21:56,187 INFO mapreduce.Job:  map 100% reduce 0%\n",
            "2023-04-25 13:22:04,297 INFO mapreduce.Job:  map 100% reduce 100%\n",
            "2023-04-25 13:22:05,315 INFO mapreduce.Job: Job job_1682428829022_0002 completed successfully\n",
            "2023-04-25 13:22:05,495 INFO mapreduce.Job: Counters: 55\n",
            "\tFile System Counters\n",
            "\t\tFILE: Number of bytes read=1078912\n",
            "\t\tFILE: Number of bytes written=2992186\n",
            "\t\tFILE: Number of read operations=0\n",
            "\t\tFILE: Number of large read operations=0\n",
            "\t\tFILE: Number of write operations=0\n",
            "\t\tHDFS: Number of bytes read=682368\n",
            "\t\tHDFS: Number of bytes written=233636\n",
            "\t\tHDFS: Number of read operations=11\n",
            "\t\tHDFS: Number of large read operations=0\n",
            "\t\tHDFS: Number of write operations=2\n",
            "\t\tHDFS: Number of bytes read erasure-coded=0\n",
            "\tJob Counters \n",
            "\t\tKilled map tasks=1\n",
            "\t\tLaunched map tasks=2\n",
            "\t\tLaunched reduce tasks=1\n",
            "\t\tData-local map tasks=2\n",
            "\t\tTotal time spent by all maps in occupied slots (ms)=16019\n",
            "\t\tTotal time spent by all reduces in occupied slots (ms)=5877\n",
            "\t\tTotal time spent by all map tasks (ms)=16019\n",
            "\t\tTotal time spent by all reduce tasks (ms)=5877\n",
            "\t\tTotal vcore-milliseconds taken by all map tasks=16019\n",
            "\t\tTotal vcore-milliseconds taken by all reduce tasks=5877\n",
            "\t\tTotal megabyte-milliseconds taken by all map tasks=16403456\n",
            "\t\tTotal megabyte-milliseconds taken by all reduce tasks=6018048\n",
            "\tMap-Reduce Framework\n",
            "\t\tMap input records=13006\n",
            "\t\tMap output records=105488\n",
            "\t\tMap output bytes=867930\n",
            "\t\tMap output materialized bytes=1078918\n",
            "\t\tInput split bytes=208\n",
            "\t\tCombine input records=0\n",
            "\t\tCombine output records=0\n",
            "\t\tReduce input groups=21438\n",
            "\t\tReduce shuffle bytes=1078918\n",
            "\t\tReduce input records=105488\n",
            "\t\tReduce output records=21438\n",
            "\t\tSpilled Records=210976\n",
            "\t\tShuffled Maps =2\n",
            "\t\tFailed Shuffles=0\n",
            "\t\tMerged Map outputs=2\n",
            "\t\tGC time elapsed (ms)=493\n",
            "\t\tCPU time spent (ms)=4770\n",
            "\t\tPhysical memory (bytes) snapshot=748335104\n",
            "\t\tVirtual memory (bytes) snapshot=7629344768\n",
            "\t\tTotal committed heap usage (bytes)=735051776\n",
            "\t\tPeak Map Physical memory (bytes)=267993088\n",
            "\t\tPeak Map Virtual memory (bytes)=2542751744\n",
            "\t\tPeak Reduce Physical memory (bytes)=225361920\n",
            "\t\tPeak Reduce Virtual memory (bytes)=2548174848\n",
            "\tShuffle Errors\n",
            "\t\tBAD_ID=0\n",
            "\t\tCONNECTION=0\n",
            "\t\tIO_ERROR=0\n",
            "\t\tWRONG_LENGTH=0\n",
            "\t\tWRONG_MAP=0\n",
            "\t\tWRONG_REDUCE=0\n",
            "\tFile Input Format Counters \n",
            "\t\tBytes Read=682160\n",
            "\tFile Output Format Counters \n",
            "\t\tBytes Written=233636\n",
            "2023-04-25 13:22:05,496 INFO streaming.StreamJob: Output directory: /word_count_with_python/output\n"
          ]
        }
      ]
    },
    {
      "cell_type": "code",
      "source": [
        "#Exploring the created output directory\n",
        "#part-r-00000 contains the actual ouput\n",
        "!$HADOOP_HOME/bin/hdfs dfs -ls /word_count_with_python/output"
      ],
      "metadata": {
        "colab": {
          "base_uri": "https://localhost:8080/"
        },
        "id": "SwBVQ8JcIJC3",
        "outputId": "edadfd9c-f275-4468-ec92-01fbf2fa69d6"
      },
      "execution_count": null,
      "outputs": [
        {
          "output_type": "stream",
          "name": "stdout",
          "text": [
            "Found 2 items\n",
            "-rw-r--r--   1 root supergroup          0 2023-04-25 13:22 /word_count_with_python/output/_SUCCESS\n",
            "-rw-r--r--   1 root supergroup     233636 2023-04-25 13:22 /word_count_with_python/output/part-00000\n"
          ]
        }
      ]
    },
    {
      "cell_type": "code",
      "source": [
        "#Printing out first 50 lines\n",
        "!$HADOOP_HOME/bin/hdfs dfs -cat /word_count_with_python/output/part-00000 | head -50"
      ],
      "metadata": {
        "id": "y9R4KRfY7d9Q",
        "colab": {
          "base_uri": "https://localhost:8080/"
        },
        "outputId": "01e423f9-d09b-46a9-e4f9-c3fe01086094"
      },
      "execution_count": null,
      "outputs": [
        {
          "output_type": "stream",
          "name": "stdout",
          "text": [
            "\"(d)\t1\n",
            "\"/H\"\t1\n",
            "\"0\"\t1\n",
            "\"02\"\t2\n",
            "\"1.\t1\n",
            "\"414\t3\n",
            "\"A\t2\n",
            "\"AT&T\t3\n",
            "\"AT&T's\t1\n",
            "\"Access\t1\n",
            "\"Acid\t3\n",
            "\"Ad-hocracy\"\t1\n",
            "\"Advanced\t1\n",
            "\"Agents\t1\n",
            "\"Al\t3\n",
            "\"All\t3\n",
            "\"American\t1\n",
            "\"An\t1\n",
            "\"And\t2\n",
            "\"Any\t1\n",
            "\"Are\t3\n",
            "\"Artificial\t1\n",
            "\"As\t1\n",
            "\"Assistant\t1\n",
            "\"Attctc\"\t2\n",
            "\"Auld\t1\n",
            "\"Autodesk,\"\t1\n",
            "\"BBS,\"\t2\n",
            "\"BIRTHPLACE\t1\n",
            "\"BRITS\t1\n",
            "\"Barry\t1\n",
            "\"Because\t1\n",
            "\"Before\t1\n",
            "\"Bell\t2\n",
            "\"Bell\"\t1\n",
            "\"BellSouth\t2\n",
            "\"Berkeley\t1\n",
            "\"Big\t1\n",
            "\"Biggest\t1\n",
            "\"Black\t3\n",
            "\"Blue\t1\n",
            "\"Bob\"\t1\n",
            "\"Bob,\t3\n",
            "\"Bob:\t1\n",
            "\"Bullet-N-Board.\"\t1\n",
            "\"Bureaucrat-ese\t1\n",
            "\"But\t4\n",
            "\"C-word.\"\t1\n",
            "\"CALIFORNIA\"\t1\n",
            "\"CC,\"\t1\n",
            "cat: Unable to write to output stream.\n"
          ]
        }
      ]
    }
  ]
}